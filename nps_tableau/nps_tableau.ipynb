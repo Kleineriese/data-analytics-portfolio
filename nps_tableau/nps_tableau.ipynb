{
 "cells": [
  {
   "cell_type": "code",
   "execution_count": 1,
   "id": "fc7efa54",
   "metadata": {},
   "outputs": [],
   "source": [
    "import os\n",
    "import pandas as pd\n",
    "import numpy as np\n",
    "\n",
    "from sqlalchemy import create_engine"
   ]
  },
  {
   "cell_type": "code",
   "execution_count": 2,
   "id": "0017f8e7",
   "metadata": {},
   "outputs": [],
   "source": [
    "path_to_db_local = 'telecomm_csi.db'\n",
    "path_to_db_platform = '/datasets/telecomm_csi.db'\n",
    "path_to_db = None\n",
    "\n",
    "if os.path.exists(path_to_db_local):\n",
    "    path_to_db = path_to_db_local\n",
    "elif os.path.exists(path_to_db_platform):\n",
    "    path_to_db = path_to_db_platform\n",
    "else:\n",
    "    raise Exception('Файл с базой данных SQLite не найден!')\n",
    "\n",
    "if path_to_db:\n",
    "    engine = create_engine(f'sqlite:///{path_to_db}', echo=False)"
   ]
  },
  {
   "cell_type": "code",
   "execution_count": 3,
   "id": "177e7b24",
   "metadata": {},
   "outputs": [],
   "source": [
    "query = \"\"\"\n",
    "SELECT  u.user_id,\n",
    "        u.lt_day,\n",
    "        CASE \n",
    "            WHEN lt_day > 365 THEN 'old'\n",
    "            ELSE 'new'\n",
    "        END is_new,\n",
    "        u.age,\n",
    "        CASE \n",
    "            WHEN gender_segment = 1 THEN 'женщина'\n",
    "            WHEN gender_segment = 0 THEN 'мужчина'\n",
    "            ELSE 'иное'\n",
    "        END gender_segment,        \n",
    "        u.os_name,\n",
    "        u.cpe_type_name,\n",
    "        l.country,\n",
    "        l.city,\n",
    "        SUBSTRING(a.title, 4) age_segment,\n",
    "        SUBSTRING(t.title, 4) traffic_segment,\n",
    "        SUBSTRING(lt.title, 4) lifetime_segment,\n",
    "        u.nps_score,\n",
    "        CASE \n",
    "            WHEN nps_score >= 9 THEN 'сторонники'\n",
    "            WHEN nps_score >= 7 THEN 'нейтралы'            \n",
    "            ELSE 'критики'\n",
    "        END nps_group        \n",
    "FROM user AS u\n",
    "LEFT JOIN location AS l ON u.location_id =l.location_id\n",
    "LEFT JOIN age_segment AS a ON u.age_gr_id =a.age_gr_id\n",
    "LEFT JOIN traffic_segment AS t ON u.tr_gr_id =t.tr_gr_id\n",
    "LEFT JOIN lifetime_segment AS lt ON u.lt_gr_id =lt.lt_gr_id\n",
    "\"\"\""
   ]
  },
  {
   "cell_type": "code",
   "execution_count": 4,
   "id": "3965faf2",
   "metadata": {
    "scrolled": true
   },
   "outputs": [
    {
     "data": {
      "text/html": [
       "<div>\n",
       "<style scoped>\n",
       "    .dataframe tbody tr th:only-of-type {\n",
       "        vertical-align: middle;\n",
       "    }\n",
       "\n",
       "    .dataframe tbody tr th {\n",
       "        vertical-align: top;\n",
       "    }\n",
       "\n",
       "    .dataframe thead th {\n",
       "        text-align: right;\n",
       "    }\n",
       "</style>\n",
       "<table border=\"1\" class=\"dataframe\">\n",
       "  <thead>\n",
       "    <tr style=\"text-align: right;\">\n",
       "      <th></th>\n",
       "      <th>user_id</th>\n",
       "      <th>lt_day</th>\n",
       "      <th>is_new</th>\n",
       "      <th>age</th>\n",
       "      <th>gender_segment</th>\n",
       "      <th>os_name</th>\n",
       "      <th>cpe_type_name</th>\n",
       "      <th>country</th>\n",
       "      <th>city</th>\n",
       "      <th>age_segment</th>\n",
       "      <th>traffic_segment</th>\n",
       "      <th>lifetime_segment</th>\n",
       "      <th>nps_score</th>\n",
       "      <th>nps_group</th>\n",
       "    </tr>\n",
       "  </thead>\n",
       "  <tbody>\n",
       "    <tr>\n",
       "      <th>0</th>\n",
       "      <td>A001A2</td>\n",
       "      <td>2320</td>\n",
       "      <td>old</td>\n",
       "      <td>45.0</td>\n",
       "      <td>женщина</td>\n",
       "      <td>ANDROID</td>\n",
       "      <td>SMARTPHONE</td>\n",
       "      <td>Россия</td>\n",
       "      <td>Уфа</td>\n",
       "      <td>45-54</td>\n",
       "      <td>1-5</td>\n",
       "      <td>36+</td>\n",
       "      <td>10</td>\n",
       "      <td>сторонники</td>\n",
       "    </tr>\n",
       "    <tr>\n",
       "      <th>1</th>\n",
       "      <td>A001WF</td>\n",
       "      <td>2344</td>\n",
       "      <td>old</td>\n",
       "      <td>53.0</td>\n",
       "      <td>мужчина</td>\n",
       "      <td>ANDROID</td>\n",
       "      <td>SMARTPHONE</td>\n",
       "      <td>Россия</td>\n",
       "      <td>Киров</td>\n",
       "      <td>45-54</td>\n",
       "      <td>1-5</td>\n",
       "      <td>36+</td>\n",
       "      <td>10</td>\n",
       "      <td>сторонники</td>\n",
       "    </tr>\n",
       "    <tr>\n",
       "      <th>2</th>\n",
       "      <td>A003Q7</td>\n",
       "      <td>467</td>\n",
       "      <td>old</td>\n",
       "      <td>57.0</td>\n",
       "      <td>мужчина</td>\n",
       "      <td>ANDROID</td>\n",
       "      <td>SMARTPHONE</td>\n",
       "      <td>Россия</td>\n",
       "      <td>Москва</td>\n",
       "      <td>55-64</td>\n",
       "      <td>20-25</td>\n",
       "      <td>13-24</td>\n",
       "      <td>10</td>\n",
       "      <td>сторонники</td>\n",
       "    </tr>\n",
       "    <tr>\n",
       "      <th>3</th>\n",
       "      <td>A004TB</td>\n",
       "      <td>4190</td>\n",
       "      <td>old</td>\n",
       "      <td>44.0</td>\n",
       "      <td>женщина</td>\n",
       "      <td>IOS</td>\n",
       "      <td>SMARTPHONE</td>\n",
       "      <td>Россия</td>\n",
       "      <td>РостовнаДону</td>\n",
       "      <td>35-44</td>\n",
       "      <td>0.1-1</td>\n",
       "      <td>36+</td>\n",
       "      <td>10</td>\n",
       "      <td>сторонники</td>\n",
       "    </tr>\n",
       "    <tr>\n",
       "      <th>4</th>\n",
       "      <td>A004XT</td>\n",
       "      <td>1163</td>\n",
       "      <td>old</td>\n",
       "      <td>24.0</td>\n",
       "      <td>мужчина</td>\n",
       "      <td>ANDROID</td>\n",
       "      <td>SMARTPHONE</td>\n",
       "      <td>Россия</td>\n",
       "      <td>Рязань</td>\n",
       "      <td>16-24</td>\n",
       "      <td>5-10</td>\n",
       "      <td>36+</td>\n",
       "      <td>10</td>\n",
       "      <td>сторонники</td>\n",
       "    </tr>\n",
       "  </tbody>\n",
       "</table>\n",
       "</div>"
      ],
      "text/plain": [
       "  user_id  lt_day is_new   age gender_segment  os_name cpe_type_name country  \\\n",
       "0  A001A2    2320    old  45.0        женщина  ANDROID    SMARTPHONE  Россия   \n",
       "1  A001WF    2344    old  53.0        мужчина  ANDROID    SMARTPHONE  Россия   \n",
       "2  A003Q7     467    old  57.0        мужчина  ANDROID    SMARTPHONE  Россия   \n",
       "3  A004TB    4190    old  44.0        женщина      IOS    SMARTPHONE  Россия   \n",
       "4  A004XT    1163    old  24.0        мужчина  ANDROID    SMARTPHONE  Россия   \n",
       "\n",
       "           city age_segment traffic_segment lifetime_segment  nps_score  \\\n",
       "0           Уфа       45-54             1-5              36+         10   \n",
       "1         Киров       45-54             1-5              36+         10   \n",
       "2        Москва       55-64           20-25            13-24         10   \n",
       "3  РостовнаДону       35-44           0.1-1              36+         10   \n",
       "4        Рязань       16-24            5-10              36+         10   \n",
       "\n",
       "    nps_group  \n",
       "0  сторонники  \n",
       "1  сторонники  \n",
       "2  сторонники  \n",
       "3  сторонники  \n",
       "4  сторонники  "
      ]
     },
     "execution_count": 4,
     "metadata": {},
     "output_type": "execute_result"
    }
   ],
   "source": [
    "df = pd.read_sql(query, engine)\n",
    "df.head(5)"
   ]
  },
  {
   "cell_type": "code",
   "execution_count": 5,
   "id": "769d55f2",
   "metadata": {
    "scrolled": false
   },
   "outputs": [
    {
     "data": {
      "text/plain": [
       "array([10., 11., 12., 13., 14., 15., 16., 17., 18., 19., 20., 21., 22.,\n",
       "       23., 24., 25., 26., 27., 28., 29., 30., 31., 32., 33., 34., 35.,\n",
       "       36., 37., 38., 39., 40., 41., 42., 43., 44., 45., 46., 47., 48.,\n",
       "       49., 50., 51., 52., 53., 54., 55., 56., 57., 58., 59., 60., 61.,\n",
       "       62., 63., 64., 65., 66., 67., 68., 69., 70., 71., 72., 73., 74.,\n",
       "       75., 76., 77., 78., 79., 80., 81., 82., 83., 84., 85., 86., 87.,\n",
       "       89., nan])"
      ]
     },
     "execution_count": 5,
     "metadata": {},
     "output_type": "execute_result"
    }
   ],
   "source": [
    "#проверим данные в столбцах\n",
    "df['age'].sort_values().unique()"
   ]
  },
  {
   "cell_type": "code",
   "execution_count": 6,
   "id": "401c66c8",
   "metadata": {
    "scrolled": true
   },
   "outputs": [
    {
     "data": {
      "text/plain": [
       "array(['Архангельск', 'Астрахань', 'Балашиха', 'Барнаул', 'Белгород',\n",
       "       'Брянск', 'Владивосток', 'Владимир', 'Волгоград', 'Волжский',\n",
       "       'Воронеж', 'Грозный', 'Екатеринбург', 'Иваново', 'Ижевск',\n",
       "       'Иркутск', 'Казань', 'Калининград', 'Калуга', 'Кемерово', 'Киров',\n",
       "       'Краснодар', 'Красноярск', 'Курск', 'Липецк', 'Магнитогорск',\n",
       "       'Махачкала', 'Москва', 'НабережныеЧелны', 'НижнийНовгород',\n",
       "       'НижнийТагил', 'Новокузнецк', 'Новосибирск', 'Омск', 'Оренбург',\n",
       "       'Пенза', 'Пермь', 'РостовнаДону', 'Рязань', 'Самара',\n",
       "       'СанктПетербург', 'Саранск', 'Саратов', 'Смоленск', 'Сочи',\n",
       "       'Ставрополь', 'Сургут', 'Тверь', 'Тольятти', 'Томск', 'Тула',\n",
       "       'Тюмень', 'УланУдэ', 'Ульяновск', 'Уфа', 'Хабаровск', 'Чебоксары',\n",
       "       'Челябинск', 'Череповец', 'Чита', 'Якутск', 'Ярославль'],\n",
       "      dtype=object)"
      ]
     },
     "execution_count": 6,
     "metadata": {},
     "output_type": "execute_result"
    }
   ],
   "source": [
    "#проверим данные в столбцах\n",
    "df['city'].sort_values().unique()"
   ]
  },
  {
   "cell_type": "code",
   "execution_count": 7,
   "id": "1ea3835a",
   "metadata": {},
   "outputs": [
    {
     "data": {
      "text/plain": [
       "array(['16-24', '25-34', '35-44', '45-54', '55-64', '66 +', 'n/a',\n",
       "       'до 16'], dtype=object)"
      ]
     },
     "execution_count": 7,
     "metadata": {},
     "output_type": "execute_result"
    }
   ],
   "source": [
    "#проверим данные в столбцах\n",
    "df['age_segment'].sort_values().unique()"
   ]
  },
  {
   "cell_type": "code",
   "execution_count": 8,
   "id": "fec9cf11",
   "metadata": {},
   "outputs": [
    {
     "data": {
      "text/plain": [
       "array(['0', '0-0.01', '0.01-0.1', '0.1-1', '1-5', '10-15', '100+',\n",
       "       '15-20', '20-25', '25-30', '30-35', '35-40', '40-45', '45-50',\n",
       "       '5-10', '50-55', '55-60', '60-65', '65-70', '70-75', '75-80',\n",
       "       '80-85', '85-90', '90-95', '95-100'], dtype=object)"
      ]
     },
     "execution_count": 8,
     "metadata": {},
     "output_type": "execute_result"
    }
   ],
   "source": [
    "#проверим данные в столбцах\n",
    "df['traffic_segment'].sort_values().unique()"
   ]
  },
  {
   "cell_type": "code",
   "execution_count": 9,
   "id": "a843fd99",
   "metadata": {},
   "outputs": [
    {
     "data": {
      "text/plain": [
       "array(['1', '13-24', '2', '25-36', '3', '36+', '4-6', '7-12'],\n",
       "      dtype=object)"
      ]
     },
     "execution_count": 9,
     "metadata": {},
     "output_type": "execute_result"
    }
   ],
   "source": [
    "#проверим данные в столбцах\n",
    "df['lifetime_segment'].sort_values().unique()"
   ]
  },
  {
   "cell_type": "code",
   "execution_count": 10,
   "id": "c07b5446",
   "metadata": {},
   "outputs": [
    {
     "data": {
      "text/plain": [
       "array([ 1,  2,  3,  4,  5,  6,  7,  8,  9, 10])"
      ]
     },
     "execution_count": 10,
     "metadata": {},
     "output_type": "execute_result"
    }
   ],
   "source": [
    "#проверим данные в столбцах\n",
    "df['nps_score'].sort_values().unique()"
   ]
  },
  {
   "cell_type": "markdown",
   "id": "16d5171c",
   "metadata": {},
   "source": [
    "Аномалии в столбцах не обнаружены."
   ]
  },
  {
   "cell_type": "code",
   "execution_count": 11,
   "id": "9e960636",
   "metadata": {},
   "outputs": [],
   "source": [
    "df.to_csv('telecomm_csi_tableau.csv', index=False)"
   ]
  },
  {
   "cell_type": "markdown",
   "id": "a3d823dd",
   "metadata": {},
   "source": [
    "https://public.tableau.com/app/profile/ruslan.burduko/viz/2_17149341642090/NPS_1?publish=yes"
   ]
  }
 ],
 "metadata": {
  "ExecuteTimeLog": [
   {
    "duration": 562,
    "start_time": "2024-05-05T14:08:11.371Z"
   },
   {
    "duration": 84,
    "start_time": "2024-05-05T14:08:14.287Z"
   },
   {
    "duration": 3,
    "start_time": "2024-05-05T14:08:22.080Z"
   },
   {
    "duration": 481,
    "start_time": "2024-05-05T14:08:25.699Z"
   },
   {
    "duration": 356,
    "start_time": "2024-05-05T14:08:38.887Z"
   },
   {
    "duration": 3,
    "start_time": "2024-05-05T14:08:45.012Z"
   },
   {
    "duration": 124,
    "start_time": "2024-05-05T14:08:45.017Z"
   },
   {
    "duration": 340,
    "start_time": "2024-05-05T14:08:45.143Z"
   },
   {
    "duration": 0,
    "start_time": "2024-05-05T14:08:45.485Z"
   },
   {
    "duration": 3,
    "start_time": "2024-05-05T14:08:53.203Z"
   },
   {
    "duration": 97,
    "start_time": "2024-05-05T14:08:54.672Z"
   },
   {
    "duration": 376,
    "start_time": "2024-05-05T14:08:58.845Z"
   },
   {
    "duration": 2,
    "start_time": "2024-05-05T14:09:39.247Z"
   },
   {
    "duration": 4094,
    "start_time": "2024-05-05T14:09:41.193Z"
   },
   {
    "duration": 3403,
    "start_time": "2024-05-05T14:10:01.238Z"
   },
   {
    "duration": 3,
    "start_time": "2024-05-05T14:47:29.848Z"
   },
   {
    "duration": 621,
    "start_time": "2024-05-05T14:47:31.522Z"
   },
   {
    "duration": 3,
    "start_time": "2024-05-05T14:47:46.330Z"
   },
   {
    "duration": 2109,
    "start_time": "2024-05-05T14:47:48.195Z"
   },
   {
    "duration": 3,
    "start_time": "2024-05-05T14:49:22.528Z"
   },
   {
    "duration": 3756,
    "start_time": "2024-05-05T14:49:24.671Z"
   },
   {
    "duration": 2,
    "start_time": "2024-05-05T14:53:27.044Z"
   },
   {
    "duration": 544,
    "start_time": "2024-05-05T14:53:57.875Z"
   },
   {
    "duration": 3,
    "start_time": "2024-05-05T14:54:05.488Z"
   },
   {
    "duration": 3424,
    "start_time": "2024-05-05T14:54:07.727Z"
   },
   {
    "duration": 3,
    "start_time": "2024-05-05T14:55:28.822Z"
   },
   {
    "duration": 549,
    "start_time": "2024-05-05T14:55:29.956Z"
   },
   {
    "duration": 2,
    "start_time": "2024-05-05T14:55:32.342Z"
   },
   {
    "duration": 544,
    "start_time": "2024-05-05T14:55:34.093Z"
   },
   {
    "duration": 3,
    "start_time": "2024-05-05T14:55:35.742Z"
   },
   {
    "duration": 550,
    "start_time": "2024-05-05T14:55:36.948Z"
   },
   {
    "duration": 3,
    "start_time": "2024-05-05T14:56:49.750Z"
   },
   {
    "duration": 66,
    "start_time": "2024-05-05T14:56:49.755Z"
   },
   {
    "duration": 3,
    "start_time": "2024-05-05T14:56:49.822Z"
   },
   {
    "duration": 3527,
    "start_time": "2024-05-05T14:56:49.827Z"
   },
   {
    "duration": 2,
    "start_time": "2024-05-05T14:56:53.356Z"
   },
   {
    "duration": 563,
    "start_time": "2024-05-05T14:56:53.360Z"
   },
   {
    "duration": 2,
    "start_time": "2024-05-05T14:56:53.925Z"
   },
   {
    "duration": 563,
    "start_time": "2024-05-05T14:56:53.929Z"
   },
   {
    "duration": 2,
    "start_time": "2024-05-05T14:56:54.494Z"
   },
   {
    "duration": 520,
    "start_time": "2024-05-05T14:56:54.498Z"
   },
   {
    "duration": 3,
    "start_time": "2024-05-05T14:56:55.019Z"
   },
   {
    "duration": 572,
    "start_time": "2024-05-05T14:56:55.023Z"
   },
   {
    "duration": 3,
    "start_time": "2024-05-05T14:56:55.596Z"
   },
   {
    "duration": 566,
    "start_time": "2024-05-05T15:26:02.614Z"
   },
   {
    "duration": 546,
    "start_time": "2024-05-05T15:26:10.934Z"
   },
   {
    "duration": 562,
    "start_time": "2024-05-05T15:29:47.118Z"
   },
   {
    "duration": 3,
    "start_time": "2024-05-05T15:30:03.850Z"
   },
   {
    "duration": 568,
    "start_time": "2024-05-05T15:30:05.782Z"
   },
   {
    "duration": 3,
    "start_time": "2024-05-05T15:30:30.851Z"
   },
   {
    "duration": 566,
    "start_time": "2024-05-05T15:30:32.391Z"
   },
   {
    "duration": 2,
    "start_time": "2024-05-05T15:46:13.930Z"
   },
   {
    "duration": 3874,
    "start_time": "2024-05-05T15:46:18.655Z"
   },
   {
    "duration": 2,
    "start_time": "2024-05-05T15:47:10.244Z"
   },
   {
    "duration": 1722,
    "start_time": "2024-05-05T15:47:12.671Z"
   },
   {
    "duration": 3,
    "start_time": "2024-05-05T15:49:34.154Z"
   },
   {
    "duration": 620,
    "start_time": "2024-05-05T15:49:36.414Z"
   },
   {
    "duration": 3,
    "start_time": "2024-05-05T15:49:48.684Z"
   },
   {
    "duration": 2319,
    "start_time": "2024-05-05T15:49:50.174Z"
   },
   {
    "duration": 2,
    "start_time": "2024-05-05T15:50:49.539Z"
   },
   {
    "duration": 2829,
    "start_time": "2024-05-05T15:50:51.388Z"
   },
   {
    "duration": 3,
    "start_time": "2024-05-05T15:52:34.541Z"
   },
   {
    "duration": 622,
    "start_time": "2024-05-05T15:52:37.163Z"
   },
   {
    "duration": 3,
    "start_time": "2024-05-05T15:52:47.562Z"
   },
   {
    "duration": 2736,
    "start_time": "2024-05-05T15:52:49.479Z"
   },
   {
    "duration": 2,
    "start_time": "2024-05-05T15:55:02.609Z"
   },
   {
    "duration": 3873,
    "start_time": "2024-05-05T15:55:04.904Z"
   },
   {
    "duration": 3,
    "start_time": "2024-05-05T15:55:19.070Z"
   },
   {
    "duration": 3974,
    "start_time": "2024-05-05T15:55:19.871Z"
   },
   {
    "duration": 3,
    "start_time": "2024-05-05T15:57:18.079Z"
   },
   {
    "duration": 4410,
    "start_time": "2024-05-05T15:57:20.060Z"
   },
   {
    "duration": 3,
    "start_time": "2024-05-05T15:58:26.186Z"
   },
   {
    "duration": 4269,
    "start_time": "2024-05-05T15:58:28.088Z"
   },
   {
    "duration": 3,
    "start_time": "2024-05-05T15:59:28.230Z"
   },
   {
    "duration": 4660,
    "start_time": "2024-05-05T15:59:29.976Z"
   },
   {
    "duration": 3,
    "start_time": "2024-05-05T16:02:01.581Z"
   },
   {
    "duration": 362,
    "start_time": "2024-05-05T16:02:05.167Z"
   },
   {
    "duration": 3,
    "start_time": "2024-05-05T16:02:11.725Z"
   },
   {
    "duration": 392,
    "start_time": "2024-05-05T16:02:14.581Z"
   },
   {
    "duration": 2,
    "start_time": "2024-05-05T16:03:15.621Z"
   },
   {
    "duration": 5144,
    "start_time": "2024-05-05T16:03:17.561Z"
   },
   {
    "duration": 3,
    "start_time": "2024-05-05T16:04:16.248Z"
   },
   {
    "duration": 47,
    "start_time": "2024-05-05T16:04:31.581Z"
   },
   {
    "duration": 510,
    "start_time": "2024-05-05T16:04:44.159Z"
   },
   {
    "duration": 97,
    "start_time": "2024-05-05T16:04:44.670Z"
   },
   {
    "duration": 2,
    "start_time": "2024-05-05T16:04:44.769Z"
   },
   {
    "duration": 5651,
    "start_time": "2024-05-05T16:04:44.772Z"
   },
   {
    "duration": 3,
    "start_time": "2024-05-05T16:04:50.426Z"
   },
   {
    "duration": 555,
    "start_time": "2024-05-05T16:04:50.430Z"
   },
   {
    "duration": 2,
    "start_time": "2024-05-05T16:04:50.986Z"
   },
   {
    "duration": 583,
    "start_time": "2024-05-05T16:04:50.990Z"
   },
   {
    "duration": 3,
    "start_time": "2024-05-05T16:04:51.574Z"
   },
   {
    "duration": 535,
    "start_time": "2024-05-05T16:04:51.578Z"
   },
   {
    "duration": 2,
    "start_time": "2024-05-05T16:04:52.115Z"
   },
   {
    "duration": 20,
    "start_time": "2024-05-05T16:04:52.119Z"
   },
   {
    "duration": 5179,
    "start_time": "2024-05-05T16:04:52.141Z"
   },
   {
    "duration": 2,
    "start_time": "2024-05-05T16:04:57.322Z"
   },
   {
    "duration": 3,
    "start_time": "2024-05-05T16:05:39.577Z"
   },
   {
    "duration": 80,
    "start_time": "2024-05-05T16:05:39.581Z"
   },
   {
    "duration": 2,
    "start_time": "2024-05-05T16:05:39.663Z"
   },
   {
    "duration": 5139,
    "start_time": "2024-05-05T16:05:39.667Z"
   },
   {
    "duration": 4477,
    "start_time": "2024-05-05T16:05:44.807Z"
   },
   {
    "duration": 3,
    "start_time": "2024-05-05T16:46:56.411Z"
   },
   {
    "duration": 5524,
    "start_time": "2024-05-05T16:46:59.070Z"
   },
   {
    "duration": 3,
    "start_time": "2024-05-05T16:47:26.832Z"
   },
   {
    "duration": 5388,
    "start_time": "2024-05-05T16:47:28.290Z"
   },
   {
    "duration": 3,
    "start_time": "2024-05-05T16:48:02.159Z"
   },
   {
    "duration": 650,
    "start_time": "2024-05-05T16:48:02.164Z"
   },
   {
    "duration": 244,
    "start_time": "2024-05-05T16:48:02.816Z"
   },
   {
    "duration": 6061,
    "start_time": "2024-05-05T16:48:03.062Z"
   },
   {
    "duration": 5182,
    "start_time": "2024-05-05T16:48:09.124Z"
   },
   {
    "duration": 3,
    "start_time": "2024-05-05T16:52:25.122Z"
   },
   {
    "duration": 5394,
    "start_time": "2024-05-05T16:52:30.846Z"
   },
   {
    "duration": 4493,
    "start_time": "2024-05-05T16:52:41.492Z"
   },
   {
    "duration": 512,
    "start_time": "2024-05-05T18:52:59.816Z"
   },
   {
    "duration": 14,
    "start_time": "2024-05-05T18:53:00.330Z"
   },
   {
    "duration": 33,
    "start_time": "2024-05-05T18:53:00.346Z"
   },
   {
    "duration": 6199,
    "start_time": "2024-05-05T18:53:00.381Z"
   },
   {
    "duration": 4776,
    "start_time": "2024-05-05T18:53:06.583Z"
   },
   {
    "duration": 498,
    "start_time": "2024-05-05T18:53:24.818Z"
   },
   {
    "duration": 10,
    "start_time": "2024-05-05T18:53:25.318Z"
   },
   {
    "duration": 3,
    "start_time": "2024-05-05T18:53:25.330Z"
   },
   {
    "duration": 5988,
    "start_time": "2024-05-05T18:53:25.334Z"
   },
   {
    "duration": 4630,
    "start_time": "2024-05-05T18:53:31.324Z"
   },
   {
    "duration": 743,
    "start_time": "2024-05-05T18:55:05.171Z"
   },
   {
    "duration": 548,
    "start_time": "2024-05-05T19:08:54.065Z"
   },
   {
    "duration": 10,
    "start_time": "2024-05-05T19:08:54.615Z"
   },
   {
    "duration": 12,
    "start_time": "2024-05-05T19:08:54.626Z"
   },
   {
    "duration": 5952,
    "start_time": "2024-05-05T19:08:54.640Z"
   },
   {
    "duration": 4784,
    "start_time": "2024-05-05T19:09:00.594Z"
   },
   {
    "duration": 525,
    "start_time": "2024-05-07T13:04:56.210Z"
   },
   {
    "duration": 84,
    "start_time": "2024-05-07T13:04:57.718Z"
   },
   {
    "duration": 3,
    "start_time": "2024-05-07T13:05:00.115Z"
   },
   {
    "duration": 5439,
    "start_time": "2024-05-07T13:05:02.187Z"
   },
   {
    "duration": 2,
    "start_time": "2024-05-07T13:05:46.586Z"
   },
   {
    "duration": 5022,
    "start_time": "2024-05-07T13:05:48.958Z"
   },
   {
    "duration": 2,
    "start_time": "2024-05-07T13:09:15.655Z"
   },
   {
    "duration": 96,
    "start_time": "2024-05-07T13:09:15.659Z"
   },
   {
    "duration": 3,
    "start_time": "2024-05-07T13:09:15.756Z"
   },
   {
    "duration": 5105,
    "start_time": "2024-05-07T13:09:15.761Z"
   },
   {
    "duration": 9,
    "start_time": "2024-05-07T13:09:23.178Z"
   },
   {
    "duration": 66,
    "start_time": "2024-05-07T13:09:33.919Z"
   },
   {
    "duration": 8,
    "start_time": "2024-05-07T13:10:37.816Z"
   },
   {
    "duration": 7,
    "start_time": "2024-05-07T13:10:43.156Z"
   },
   {
    "duration": 8,
    "start_time": "2024-05-07T13:11:03.632Z"
   },
   {
    "duration": 48,
    "start_time": "2024-05-07T13:11:58.529Z"
   },
   {
    "duration": 1244,
    "start_time": "2024-05-07T13:12:34.721Z"
   },
   {
    "duration": 3,
    "start_time": "2024-05-07T13:13:25.992Z"
   },
   {
    "duration": 91,
    "start_time": "2024-05-07T13:13:25.996Z"
   },
   {
    "duration": 3,
    "start_time": "2024-05-07T13:13:26.089Z"
   },
   {
    "duration": 5168,
    "start_time": "2024-05-07T13:13:26.094Z"
   },
   {
    "duration": 56,
    "start_time": "2024-05-07T13:13:31.264Z"
   },
   {
    "duration": 1334,
    "start_time": "2024-05-07T13:13:31.321Z"
   },
   {
    "duration": 1154,
    "start_time": "2024-05-07T13:13:32.656Z"
   },
   {
    "duration": 1179,
    "start_time": "2024-05-07T13:13:33.815Z"
   },
   {
    "duration": 1039,
    "start_time": "2024-05-07T13:13:34.995Z"
   },
   {
    "duration": 2,
    "start_time": "2024-05-07T13:14:30.710Z"
   },
   {
    "duration": 134,
    "start_time": "2024-05-07T13:14:30.714Z"
   },
   {
    "duration": 3,
    "start_time": "2024-05-07T13:14:30.849Z"
   },
   {
    "duration": 5129,
    "start_time": "2024-05-07T13:14:30.854Z"
   },
   {
    "duration": 55,
    "start_time": "2024-05-07T13:14:35.985Z"
   },
   {
    "duration": 1306,
    "start_time": "2024-05-07T13:14:36.041Z"
   },
   {
    "duration": 1122,
    "start_time": "2024-05-07T13:14:37.349Z"
   },
   {
    "duration": 1294,
    "start_time": "2024-05-07T13:14:38.472Z"
   },
   {
    "duration": 1040,
    "start_time": "2024-05-07T13:14:39.768Z"
   },
   {
    "duration": 32,
    "start_time": "2024-05-07T13:14:54.172Z"
   },
   {
    "duration": 2,
    "start_time": "2024-05-07T13:17:58.967Z"
   },
   {
    "duration": 74,
    "start_time": "2024-05-07T13:17:58.971Z"
   },
   {
    "duration": 3,
    "start_time": "2024-05-07T13:17:59.046Z"
   },
   {
    "duration": 4997,
    "start_time": "2024-05-07T13:17:59.050Z"
   },
   {
    "duration": 51,
    "start_time": "2024-05-07T13:18:04.049Z"
   },
   {
    "duration": 1229,
    "start_time": "2024-05-07T13:18:04.103Z"
   },
   {
    "duration": 1100,
    "start_time": "2024-05-07T13:18:05.333Z"
   },
   {
    "duration": 1179,
    "start_time": "2024-05-07T13:18:06.435Z"
   },
   {
    "duration": 1067,
    "start_time": "2024-05-07T13:18:07.616Z"
   },
   {
    "duration": 37,
    "start_time": "2024-05-07T13:18:08.685Z"
   },
   {
    "duration": 529,
    "start_time": "2024-05-08T11:01:00.577Z"
   },
   {
    "duration": 65,
    "start_time": "2024-05-08T11:01:01.111Z"
   },
   {
    "duration": 40,
    "start_time": "2024-05-08T11:01:01.177Z"
   },
   {
    "duration": 4921,
    "start_time": "2024-05-08T11:01:01.219Z"
   },
   {
    "duration": 53,
    "start_time": "2024-05-08T11:01:06.143Z"
   },
   {
    "duration": 976,
    "start_time": "2024-05-08T11:01:06.198Z"
   },
   {
    "duration": 832,
    "start_time": "2024-05-08T11:01:07.176Z"
   },
   {
    "duration": 881,
    "start_time": "2024-05-08T11:01:08.009Z"
   },
   {
    "duration": 756,
    "start_time": "2024-05-08T11:01:08.892Z"
   },
   {
    "duration": 30,
    "start_time": "2024-05-08T11:01:09.650Z"
   },
   {
    "duration": 4037,
    "start_time": "2024-05-08T11:01:09.681Z"
   },
   {
    "duration": 541,
    "start_time": "2024-05-09T18:37:49.425Z"
   },
   {
    "duration": 10,
    "start_time": "2024-05-09T18:37:49.968Z"
   },
   {
    "duration": 6,
    "start_time": "2024-05-09T18:37:49.980Z"
   },
   {
    "duration": 5662,
    "start_time": "2024-05-09T18:37:49.987Z"
   },
   {
    "duration": 53,
    "start_time": "2024-05-09T18:37:55.655Z"
   },
   {
    "duration": 1235,
    "start_time": "2024-05-09T18:37:55.710Z"
   },
   {
    "duration": 1010,
    "start_time": "2024-05-09T18:37:56.946Z"
   },
   {
    "duration": 1051,
    "start_time": "2024-05-09T18:37:57.958Z"
   },
   {
    "duration": 965,
    "start_time": "2024-05-09T18:37:59.011Z"
   },
   {
    "duration": 28,
    "start_time": "2024-05-09T18:37:59.977Z"
   },
   {
    "duration": 4176,
    "start_time": "2024-05-09T18:38:00.007Z"
   },
   {
    "duration": 481,
    "start_time": "2024-05-09T18:44:23.394Z"
   },
   {
    "duration": 14,
    "start_time": "2024-05-09T18:44:23.877Z"
   },
   {
    "duration": 5,
    "start_time": "2024-05-09T18:44:23.893Z"
   },
   {
    "duration": 5582,
    "start_time": "2024-05-09T18:44:23.899Z"
   },
   {
    "duration": 49,
    "start_time": "2024-05-09T18:44:29.483Z"
   },
   {
    "duration": 1295,
    "start_time": "2024-05-09T18:44:29.534Z"
   },
   {
    "duration": 1140,
    "start_time": "2024-05-09T18:44:30.831Z"
   },
   {
    "duration": 1196,
    "start_time": "2024-05-09T18:44:31.972Z"
   },
   {
    "duration": 962,
    "start_time": "2024-05-09T18:44:33.170Z"
   },
   {
    "duration": 39,
    "start_time": "2024-05-09T18:44:34.134Z"
   },
   {
    "duration": 4051,
    "start_time": "2024-05-09T18:44:34.174Z"
   }
  ],
  "kernelspec": {
   "display_name": "Python 3 (ipykernel)",
   "language": "python",
   "name": "python3"
  },
  "language_info": {
   "codemirror_mode": {
    "name": "ipython",
    "version": 3
   },
   "file_extension": ".py",
   "mimetype": "text/x-python",
   "name": "python",
   "nbconvert_exporter": "python",
   "pygments_lexer": "ipython3",
   "version": "3.9.5"
  },
  "toc": {
   "base_numbering": 1,
   "nav_menu": {},
   "number_sections": true,
   "sideBar": true,
   "skip_h1_title": true,
   "title_cell": "Table of Contents",
   "title_sidebar": "Contents",
   "toc_cell": false,
   "toc_position": {},
   "toc_section_display": true,
   "toc_window_display": false
  }
 },
 "nbformat": 4,
 "nbformat_minor": 5
}
