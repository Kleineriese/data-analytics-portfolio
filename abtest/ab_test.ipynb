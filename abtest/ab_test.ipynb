{
  "metadata": {
    "kernelspec": {
      "name": "python",
      "display_name": "Python (Pyodide)",
      "language": "python"
    },
    "language_info": {
      "codemirror_mode": {
        "name": "python",
        "version": 3
      },
      "file_extension": ".py",
      "mimetype": "text/x-python",
      "name": "python",
      "nbconvert_exporter": "python",
      "pygments_lexer": "ipython3",
      "version": "3.8"
    },
    "ExecuteTimeLog": [
      {
        "duration": 403,
        "start_time": "2024-11-27T13:45:09.987Z"
      },
      {
        "duration": 99,
        "start_time": "2024-11-27T13:45:45.612Z"
      },
      {
        "duration": 15,
        "start_time": "2024-11-27T13:46:28.715Z"
      },
      {
        "duration": 37,
        "start_time": "2024-11-27T13:50:55.536Z"
      },
      {
        "duration": 15,
        "start_time": "2024-11-27T13:51:42.166Z"
      },
      {
        "duration": 68,
        "start_time": "2024-11-27T13:52:01.755Z"
      },
      {
        "duration": 11,
        "start_time": "2024-11-27T13:52:08.022Z"
      },
      {
        "duration": 11,
        "start_time": "2024-11-27T13:54:24.336Z"
      },
      {
        "duration": 31,
        "start_time": "2024-11-27T13:54:35.339Z"
      },
      {
        "duration": 19,
        "start_time": "2024-11-27T13:55:11.755Z"
      },
      {
        "duration": 19,
        "start_time": "2024-11-27T13:55:23.589Z"
      },
      {
        "duration": 18,
        "start_time": "2024-11-27T13:55:43.185Z"
      },
      {
        "duration": 15,
        "start_time": "2024-11-27T13:55:47.921Z"
      },
      {
        "duration": 31,
        "start_time": "2024-11-27T13:58:39.540Z"
      },
      {
        "duration": 16,
        "start_time": "2024-11-27T13:58:57.975Z"
      },
      {
        "duration": 18,
        "start_time": "2024-11-27T13:59:01.618Z"
      },
      {
        "duration": 16,
        "start_time": "2024-11-27T13:59:06.377Z"
      },
      {
        "duration": 18,
        "start_time": "2024-11-27T14:01:01.067Z"
      },
      {
        "duration": 77,
        "start_time": "2024-11-27T14:01:47.850Z"
      },
      {
        "duration": 40,
        "start_time": "2024-11-27T14:11:15.923Z"
      },
      {
        "duration": 51,
        "start_time": "2024-11-28T10:32:04.714Z"
      },
      {
        "duration": 434,
        "start_time": "2024-11-28T10:32:11.034Z"
      },
      {
        "duration": 83,
        "start_time": "2024-11-28T10:32:11.469Z"
      },
      {
        "duration": 11,
        "start_time": "2024-11-28T10:32:11.554Z"
      },
      {
        "duration": 84,
        "start_time": "2024-11-28T10:32:11.567Z"
      },
      {
        "duration": 19,
        "start_time": "2024-11-28T10:32:11.653Z"
      },
      {
        "duration": 106,
        "start_time": "2024-11-28T10:32:14.299Z"
      },
      {
        "duration": 12,
        "start_time": "2024-11-28T10:32:24.376Z"
      },
      {
        "duration": 10,
        "start_time": "2024-11-28T10:32:32.022Z"
      },
      {
        "duration": 333,
        "start_time": "2024-11-28T10:35:02.125Z"
      },
      {
        "duration": 312,
        "start_time": "2024-11-28T10:35:17.425Z"
      },
      {
        "duration": 3,
        "start_time": "2024-11-28T10:35:22.940Z"
      },
      {
        "duration": 37,
        "start_time": "2024-11-28T10:35:22.945Z"
      },
      {
        "duration": 11,
        "start_time": "2024-11-28T10:35:22.984Z"
      },
      {
        "duration": 20,
        "start_time": "2024-11-28T10:35:22.997Z"
      },
      {
        "duration": 26,
        "start_time": "2024-11-28T10:35:23.018Z"
      },
      {
        "duration": 104,
        "start_time": "2024-11-28T10:35:23.046Z"
      },
      {
        "duration": 11,
        "start_time": "2024-11-28T10:35:23.151Z"
      },
      {
        "duration": 324,
        "start_time": "2024-11-28T10:35:24.996Z"
      },
      {
        "duration": 288,
        "start_time": "2024-11-28T10:35:40.676Z"
      },
      {
        "duration": 22,
        "start_time": "2024-11-28T10:35:49.954Z"
      },
      {
        "duration": 85,
        "start_time": "2024-11-28T10:37:02.750Z"
      },
      {
        "duration": 11,
        "start_time": "2024-11-28T10:37:48.808Z"
      },
      {
        "duration": 12,
        "start_time": "2024-11-28T10:38:45.408Z"
      },
      {
        "duration": 24,
        "start_time": "2024-11-28T10:40:30.993Z"
      },
      {
        "duration": 3,
        "start_time": "2024-11-28T10:40:46.865Z"
      },
      {
        "duration": 74,
        "start_time": "2024-11-28T10:40:46.870Z"
      },
      {
        "duration": 11,
        "start_time": "2024-11-28T10:40:46.945Z"
      },
      {
        "duration": 73,
        "start_time": "2024-11-28T10:40:46.959Z"
      },
      {
        "duration": 55,
        "start_time": "2024-11-28T10:40:47.034Z"
      },
      {
        "duration": 105,
        "start_time": "2024-11-28T10:40:47.091Z"
      },
      {
        "duration": 38,
        "start_time": "2024-11-28T10:40:47.198Z"
      },
      {
        "duration": 96,
        "start_time": "2024-11-28T10:40:47.238Z"
      },
      {
        "duration": 106,
        "start_time": "2024-11-28T10:40:47.336Z"
      },
      {
        "duration": 46,
        "start_time": "2024-11-28T10:40:47.445Z"
      },
      {
        "duration": 21,
        "start_time": "2024-11-28T10:40:47.494Z"
      },
      {
        "duration": 30,
        "start_time": "2024-11-28T10:40:49.133Z"
      },
      {
        "duration": 277,
        "start_time": "2024-11-28T10:42:43.947Z"
      },
      {
        "duration": 10,
        "start_time": "2024-11-28T10:44:42.375Z"
      },
      {
        "duration": 80,
        "start_time": "2024-11-28T10:45:53.396Z"
      },
      {
        "duration": 78,
        "start_time": "2024-11-28T10:46:01.498Z"
      },
      {
        "duration": 3,
        "start_time": "2024-11-28T10:47:30.953Z"
      },
      {
        "duration": 125,
        "start_time": "2024-11-28T10:47:35.492Z"
      },
      {
        "duration": 12,
        "start_time": "2024-11-28T10:48:41.252Z"
      },
      {
        "duration": 438,
        "start_time": "2024-11-28T10:48:52.385Z"
      },
      {
        "duration": 267,
        "start_time": "2024-11-28T10:48:54.541Z"
      },
      {
        "duration": 827,
        "start_time": "2024-11-30T11:27:45.580Z"
      },
      {
        "duration": 85,
        "start_time": "2024-11-30T11:27:46.409Z"
      },
      {
        "duration": 11,
        "start_time": "2024-11-30T11:27:46.495Z"
      },
      {
        "duration": 18,
        "start_time": "2024-11-30T11:27:46.507Z"
      },
      {
        "duration": 14,
        "start_time": "2024-11-30T11:27:46.527Z"
      },
      {
        "duration": 108,
        "start_time": "2024-11-30T11:27:46.542Z"
      },
      {
        "duration": 10,
        "start_time": "2024-11-30T11:27:46.652Z"
      },
      {
        "duration": 80,
        "start_time": "2024-11-30T11:27:46.664Z"
      },
      {
        "duration": 138,
        "start_time": "2024-11-30T11:27:46.746Z"
      },
      {
        "duration": 10,
        "start_time": "2024-11-30T11:27:46.886Z"
      },
      {
        "duration": 32,
        "start_time": "2024-11-30T11:27:46.898Z"
      },
      {
        "duration": 272,
        "start_time": "2024-11-30T11:27:46.931Z"
      },
      {
        "duration": 268,
        "start_time": "2024-11-30T11:27:47.204Z"
      },
      {
        "duration": 183,
        "start_time": "2024-11-30T11:35:42.814Z"
      },
      {
        "duration": 186,
        "start_time": "2024-11-30T11:36:33.291Z"
      },
      {
        "duration": 262,
        "start_time": "2024-11-30T11:37:18.218Z"
      },
      {
        "duration": 184,
        "start_time": "2024-11-30T11:51:12.704Z"
      },
      {
        "duration": 197,
        "start_time": "2024-11-30T11:51:29.737Z"
      },
      {
        "duration": 1066,
        "start_time": "2024-12-01T13:28:30.797Z"
      },
      {
        "duration": 104,
        "start_time": "2024-12-01T13:28:31.866Z"
      },
      {
        "duration": 11,
        "start_time": "2024-12-01T13:28:31.972Z"
      },
      {
        "duration": 22,
        "start_time": "2024-12-01T13:28:31.984Z"
      },
      {
        "duration": 14,
        "start_time": "2024-12-01T13:28:32.007Z"
      },
      {
        "duration": 103,
        "start_time": "2024-12-01T13:28:32.022Z"
      },
      {
        "duration": 10,
        "start_time": "2024-12-01T13:28:32.127Z"
      },
      {
        "duration": 26,
        "start_time": "2024-12-01T13:28:32.138Z"
      },
      {
        "duration": 75,
        "start_time": "2024-12-01T13:28:32.166Z"
      },
      {
        "duration": 11,
        "start_time": "2024-12-01T13:28:32.242Z"
      },
      {
        "duration": 14,
        "start_time": "2024-12-01T13:28:32.254Z"
      },
      {
        "duration": 302,
        "start_time": "2024-12-01T13:28:32.269Z"
      },
      {
        "duration": 300,
        "start_time": "2024-12-01T13:28:32.572Z"
      },
      {
        "duration": 208,
        "start_time": "2024-12-01T13:28:32.874Z"
      },
      {
        "duration": 311,
        "start_time": "2024-12-01T13:29:49.675Z"
      },
      {
        "duration": 352,
        "start_time": "2024-12-01T13:29:58.103Z"
      },
      {
        "duration": 303,
        "start_time": "2024-12-01T13:30:11.729Z"
      },
      {
        "duration": 354,
        "start_time": "2024-12-01T13:30:16.015Z"
      },
      {
        "duration": 274,
        "start_time": "2024-12-01T13:30:27.492Z"
      },
      {
        "duration": 271,
        "start_time": "2024-12-01T13:33:32.447Z"
      },
      {
        "duration": 191,
        "start_time": "2024-12-01T13:33:52.977Z"
      },
      {
        "duration": 216,
        "start_time": "2024-12-01T13:34:06.295Z"
      },
      {
        "duration": 210,
        "start_time": "2024-12-01T13:34:11.255Z"
      },
      {
        "duration": 225,
        "start_time": "2024-12-01T13:34:33.625Z"
      },
      {
        "duration": 215,
        "start_time": "2024-12-01T13:34:59.130Z"
      },
      {
        "duration": 219,
        "start_time": "2024-12-01T13:35:06.585Z"
      },
      {
        "duration": 302,
        "start_time": "2024-12-01T13:35:11.800Z"
      },
      {
        "duration": 224,
        "start_time": "2024-12-01T13:37:05.889Z"
      },
      {
        "duration": 233,
        "start_time": "2024-12-01T13:37:30.448Z"
      },
      {
        "duration": 219,
        "start_time": "2024-12-01T13:37:41.620Z"
      },
      {
        "duration": 206,
        "start_time": "2024-12-01T13:38:59.450Z"
      },
      {
        "duration": 198,
        "start_time": "2024-12-01T13:39:14.027Z"
      },
      {
        "duration": 204,
        "start_time": "2024-12-01T13:39:22.468Z"
      },
      {
        "duration": 198,
        "start_time": "2024-12-01T13:39:31.378Z"
      },
      {
        "duration": 361,
        "start_time": "2024-12-01T13:45:16.057Z"
      },
      {
        "duration": 388,
        "start_time": "2024-12-01T13:45:35.028Z"
      },
      {
        "duration": 384,
        "start_time": "2024-12-01T13:46:02.247Z"
      },
      {
        "duration": 434,
        "start_time": "2024-12-01T13:46:11.182Z"
      },
      {
        "duration": 326,
        "start_time": "2024-12-01T13:48:55.967Z"
      },
      {
        "duration": 298,
        "start_time": "2024-12-01T13:49:19.214Z"
      },
      {
        "duration": 9,
        "start_time": "2024-12-01T14:08:41.602Z"
      },
      {
        "duration": 9,
        "start_time": "2024-12-01T14:10:20.718Z"
      },
      {
        "duration": 14,
        "start_time": "2024-12-01T14:11:18.308Z"
      },
      {
        "duration": 10,
        "start_time": "2024-12-01T14:11:51.031Z"
      },
      {
        "duration": 114,
        "start_time": "2024-12-01T14:12:42.172Z"
      },
      {
        "duration": 135,
        "start_time": "2024-12-01T14:12:55.802Z"
      },
      {
        "duration": 117,
        "start_time": "2024-12-01T14:13:11.569Z"
      },
      {
        "duration": 4,
        "start_time": "2024-12-01T14:15:08.364Z"
      },
      {
        "duration": 125,
        "start_time": "2024-12-01T14:19:20.414Z"
      },
      {
        "duration": 146,
        "start_time": "2024-12-01T14:20:04.840Z"
      },
      {
        "duration": 4,
        "start_time": "2024-12-01T14:21:02.196Z"
      },
      {
        "duration": 140,
        "start_time": "2024-12-01T14:21:08.567Z"
      },
      {
        "duration": 129,
        "start_time": "2024-12-01T14:21:21.821Z"
      },
      {
        "duration": 131,
        "start_time": "2024-12-01T14:21:41.595Z"
      },
      {
        "duration": 3,
        "start_time": "2024-12-01T14:23:42.576Z"
      },
      {
        "duration": 135,
        "start_time": "2024-12-01T14:23:47.454Z"
      },
      {
        "duration": 141,
        "start_time": "2024-12-01T14:23:52.840Z"
      },
      {
        "duration": 143,
        "start_time": "2024-12-01T14:23:57.222Z"
      },
      {
        "duration": 232,
        "start_time": "2024-12-01T14:24:01.824Z"
      },
      {
        "duration": 131,
        "start_time": "2024-12-01T14:24:33.034Z"
      },
      {
        "duration": 5,
        "start_time": "2024-12-01T14:29:21.426Z"
      },
      {
        "duration": 4,
        "start_time": "2024-12-01T14:29:39.980Z"
      },
      {
        "duration": 109,
        "start_time": "2024-12-01T14:36:16.903Z"
      },
      {
        "duration": 211,
        "start_time": "2024-12-01T14:38:32.919Z"
      },
      {
        "duration": 240,
        "start_time": "2024-12-01T14:38:38.706Z"
      },
      {
        "duration": 15,
        "start_time": "2024-12-01T14:41:47.087Z"
      },
      {
        "duration": 140,
        "start_time": "2024-12-01T14:42:18.429Z"
      },
      {
        "duration": 418,
        "start_time": "2024-12-01T14:42:57.771Z"
      },
      {
        "duration": 36,
        "start_time": "2024-12-01T14:42:58.191Z"
      },
      {
        "duration": 10,
        "start_time": "2024-12-01T14:42:58.228Z"
      },
      {
        "duration": 12,
        "start_time": "2024-12-01T14:42:58.240Z"
      },
      {
        "duration": 14,
        "start_time": "2024-12-01T14:42:58.254Z"
      },
      {
        "duration": 61,
        "start_time": "2024-12-01T14:42:58.269Z"
      },
      {
        "duration": 10,
        "start_time": "2024-12-01T14:42:58.331Z"
      },
      {
        "duration": 23,
        "start_time": "2024-12-01T14:42:58.342Z"
      },
      {
        "duration": 28,
        "start_time": "2024-12-01T14:42:58.367Z"
      },
      {
        "duration": 10,
        "start_time": "2024-12-01T14:42:58.397Z"
      },
      {
        "duration": 14,
        "start_time": "2024-12-01T14:42:58.408Z"
      },
      {
        "duration": 293,
        "start_time": "2024-12-01T14:42:58.424Z"
      },
      {
        "duration": 248,
        "start_time": "2024-12-01T14:42:58.718Z"
      },
      {
        "duration": 211,
        "start_time": "2024-12-01T14:42:58.967Z"
      },
      {
        "duration": 304,
        "start_time": "2024-12-01T14:42:59.180Z"
      },
      {
        "duration": 207,
        "start_time": "2024-12-01T14:42:59.485Z"
      },
      {
        "duration": 421,
        "start_time": "2024-12-01T14:42:59.693Z"
      },
      {
        "duration": 10,
        "start_time": "2024-12-01T14:43:00.116Z"
      },
      {
        "duration": 137,
        "start_time": "2024-12-01T14:43:00.128Z"
      },
      {
        "duration": 4,
        "start_time": "2024-12-01T14:43:00.267Z"
      },
      {
        "duration": 152,
        "start_time": "2024-12-01T14:43:00.273Z"
      },
      {
        "duration": 142,
        "start_time": "2024-12-01T14:43:00.427Z"
      },
      {
        "duration": 4,
        "start_time": "2024-12-01T14:43:00.571Z"
      },
      {
        "duration": 263,
        "start_time": "2024-12-01T14:43:00.576Z"
      },
      {
        "duration": 185,
        "start_time": "2024-12-01T14:43:00.841Z"
      },
      {
        "duration": 10,
        "start_time": "2024-12-01T14:48:40.423Z"
      },
      {
        "duration": 1107,
        "start_time": "2024-12-01T14:53:39.430Z"
      },
      {
        "duration": 1158,
        "start_time": "2024-12-01T14:53:57.532Z"
      },
      {
        "duration": 9,
        "start_time": "2024-12-01T14:54:42.506Z"
      },
      {
        "duration": 8,
        "start_time": "2024-12-01T14:55:41.933Z"
      },
      {
        "duration": 31,
        "start_time": "2024-12-01T14:55:48.588Z"
      },
      {
        "duration": 13,
        "start_time": "2024-12-01T14:58:42.588Z"
      },
      {
        "duration": 349,
        "start_time": "2024-12-01T15:12:09.922Z"
      },
      {
        "duration": 306,
        "start_time": "2024-12-01T15:14:23.068Z"
      },
      {
        "duration": 1230,
        "start_time": "2024-12-02T15:15:40.382Z"
      },
      {
        "duration": 80,
        "start_time": "2024-12-02T15:15:41.613Z"
      },
      {
        "duration": 9,
        "start_time": "2024-12-02T15:15:41.695Z"
      },
      {
        "duration": 93,
        "start_time": "2024-12-02T15:15:43.588Z"
      },
      {
        "duration": 8,
        "start_time": "2024-12-02T15:18:40.233Z"
      },
      {
        "duration": 7,
        "start_time": "2024-12-02T15:18:53.441Z"
      },
      {
        "duration": 3,
        "start_time": "2024-12-02T15:19:56.416Z"
      },
      {
        "duration": 13,
        "start_time": "2024-12-02T15:21:27.222Z"
      },
      {
        "duration": 12,
        "start_time": "2024-12-02T15:21:51.653Z"
      },
      {
        "duration": 6,
        "start_time": "2024-12-02T15:24:39.067Z"
      },
      {
        "duration": 20,
        "start_time": "2024-12-02T15:24:51.066Z"
      },
      {
        "duration": 9,
        "start_time": "2024-12-02T15:25:14.329Z"
      },
      {
        "duration": 9,
        "start_time": "2024-12-02T15:25:21.193Z"
      },
      {
        "duration": 7,
        "start_time": "2024-12-02T15:26:11.570Z"
      },
      {
        "duration": 9,
        "start_time": "2024-12-02T15:26:15.108Z"
      },
      {
        "duration": 9,
        "start_time": "2024-12-02T15:28:08.485Z"
      },
      {
        "duration": 3,
        "start_time": "2024-12-02T15:28:13.601Z"
      },
      {
        "duration": 8,
        "start_time": "2024-12-02T15:28:19.590Z"
      },
      {
        "duration": 9,
        "start_time": "2024-12-02T15:31:19.790Z"
      },
      {
        "duration": 9,
        "start_time": "2024-12-02T15:32:35.878Z"
      },
      {
        "duration": 9,
        "start_time": "2024-12-02T15:32:43.233Z"
      },
      {
        "duration": 13,
        "start_time": "2024-12-02T15:32:57.938Z"
      },
      {
        "duration": 12,
        "start_time": "2024-12-02T15:33:17.258Z"
      },
      {
        "duration": 9,
        "start_time": "2024-12-02T15:33:19.433Z"
      },
      {
        "duration": 10,
        "start_time": "2024-12-02T15:33:30.135Z"
      },
      {
        "duration": 10,
        "start_time": "2024-12-02T15:34:26.489Z"
      },
      {
        "duration": 9,
        "start_time": "2024-12-02T15:34:33.078Z"
      },
      {
        "duration": 3,
        "start_time": "2024-12-02T15:34:41.974Z"
      },
      {
        "duration": 36,
        "start_time": "2024-12-02T15:34:41.980Z"
      },
      {
        "duration": 9,
        "start_time": "2024-12-02T15:34:42.017Z"
      },
      {
        "duration": 20,
        "start_time": "2024-12-02T15:34:42.027Z"
      },
      {
        "duration": 28,
        "start_time": "2024-12-02T15:34:42.048Z"
      },
      {
        "duration": 18,
        "start_time": "2024-12-02T15:34:42.078Z"
      },
      {
        "duration": 104,
        "start_time": "2024-12-02T15:34:42.098Z"
      },
      {
        "duration": 9,
        "start_time": "2024-12-02T15:34:42.203Z"
      },
      {
        "duration": 19,
        "start_time": "2024-12-02T15:34:42.213Z"
      },
      {
        "duration": 73,
        "start_time": "2024-12-02T15:34:42.233Z"
      },
      {
        "duration": 8,
        "start_time": "2024-12-02T15:34:42.308Z"
      },
      {
        "duration": 9,
        "start_time": "2024-12-02T15:34:42.317Z"
      },
      {
        "duration": 274,
        "start_time": "2024-12-02T15:34:42.328Z"
      },
      {
        "duration": 259,
        "start_time": "2024-12-02T15:34:42.603Z"
      },
      {
        "duration": 169,
        "start_time": "2024-12-02T15:34:42.864Z"
      },
      {
        "duration": 297,
        "start_time": "2024-12-02T15:34:43.034Z"
      },
      {
        "duration": 172,
        "start_time": "2024-12-02T15:34:43.332Z"
      },
      {
        "duration": 313,
        "start_time": "2024-12-02T15:34:43.506Z"
      },
      {
        "duration": 8,
        "start_time": "2024-12-02T15:34:43.820Z"
      },
      {
        "duration": 114,
        "start_time": "2024-12-02T15:34:43.829Z"
      },
      {
        "duration": 4,
        "start_time": "2024-12-02T15:34:43.944Z"
      },
      {
        "duration": 148,
        "start_time": "2024-12-02T15:34:43.950Z"
      },
      {
        "duration": 121,
        "start_time": "2024-12-02T15:34:44.099Z"
      },
      {
        "duration": 4,
        "start_time": "2024-12-02T15:34:44.221Z"
      },
      {
        "duration": 261,
        "start_time": "2024-12-02T15:34:44.227Z"
      },
      {
        "duration": 148,
        "start_time": "2024-12-02T15:34:44.490Z"
      },
      {
        "duration": 8,
        "start_time": "2024-12-02T15:34:44.640Z"
      },
      {
        "duration": 8,
        "start_time": "2024-12-02T15:34:44.649Z"
      },
      {
        "duration": 24,
        "start_time": "2024-12-02T15:34:44.658Z"
      },
      {
        "duration": 34,
        "start_time": "2024-12-02T15:34:44.683Z"
      },
      {
        "duration": 177,
        "start_time": "2024-12-02T15:42:29.594Z"
      },
      {
        "duration": 4,
        "start_time": "2024-12-02T15:45:18.046Z"
      },
      {
        "duration": 3,
        "start_time": "2024-12-02T15:45:29.274Z"
      },
      {
        "duration": 42,
        "start_time": "2024-12-02T15:45:29.280Z"
      },
      {
        "duration": 9,
        "start_time": "2024-12-02T15:45:29.323Z"
      },
      {
        "duration": 25,
        "start_time": "2024-12-02T15:45:29.334Z"
      },
      {
        "duration": 49,
        "start_time": "2024-12-02T15:45:29.361Z"
      },
      {
        "duration": 33,
        "start_time": "2024-12-02T15:45:29.413Z"
      },
      {
        "duration": 56,
        "start_time": "2024-12-02T15:45:29.447Z"
      },
      {
        "duration": 8,
        "start_time": "2024-12-02T15:45:29.505Z"
      },
      {
        "duration": 43,
        "start_time": "2024-12-02T15:45:29.514Z"
      },
      {
        "duration": 55,
        "start_time": "2024-12-02T15:45:29.559Z"
      },
      {
        "duration": 8,
        "start_time": "2024-12-02T15:45:29.615Z"
      },
      {
        "duration": 14,
        "start_time": "2024-12-02T15:45:29.625Z"
      },
      {
        "duration": 275,
        "start_time": "2024-12-02T15:45:29.640Z"
      },
      {
        "duration": 173,
        "start_time": "2024-12-02T15:45:29.916Z"
      },
      {
        "duration": 165,
        "start_time": "2024-12-02T15:45:30.092Z"
      },
      {
        "duration": 275,
        "start_time": "2024-12-02T15:45:30.259Z"
      },
      {
        "duration": 177,
        "start_time": "2024-12-02T15:45:30.535Z"
      },
      {
        "duration": 310,
        "start_time": "2024-12-02T15:45:30.714Z"
      },
      {
        "duration": 8,
        "start_time": "2024-12-02T15:45:31.025Z"
      },
      {
        "duration": 119,
        "start_time": "2024-12-02T15:45:31.034Z"
      },
      {
        "duration": 7,
        "start_time": "2024-12-02T15:45:31.155Z"
      },
      {
        "duration": 138,
        "start_time": "2024-12-02T15:45:31.164Z"
      },
      {
        "duration": 126,
        "start_time": "2024-12-02T15:45:31.304Z"
      },
      {
        "duration": 4,
        "start_time": "2024-12-02T15:45:31.431Z"
      },
      {
        "duration": 17,
        "start_time": "2024-12-02T15:45:31.437Z"
      },
      {
        "duration": 224,
        "start_time": "2024-12-02T15:45:31.455Z"
      },
      {
        "duration": 167,
        "start_time": "2024-12-02T15:45:31.680Z"
      },
      {
        "duration": 9,
        "start_time": "2024-12-02T15:45:31.848Z"
      },
      {
        "duration": 34,
        "start_time": "2024-12-02T15:45:31.858Z"
      },
      {
        "duration": 30,
        "start_time": "2024-12-02T15:45:31.893Z"
      },
      {
        "duration": 22,
        "start_time": "2024-12-02T15:45:31.924Z"
      },
      {
        "duration": 15,
        "start_time": "2024-12-02T15:45:42.875Z"
      },
      {
        "duration": 8,
        "start_time": "2024-12-02T15:46:04.007Z"
      },
      {
        "duration": 10,
        "start_time": "2024-12-02T15:46:13.472Z"
      },
      {
        "duration": 5,
        "start_time": "2024-12-02T15:46:17.507Z"
      },
      {
        "duration": 3,
        "start_time": "2024-12-02T15:46:36.620Z"
      },
      {
        "duration": 3,
        "start_time": "2024-12-02T15:46:39.415Z"
      },
      {
        "duration": 8,
        "start_time": "2024-12-02T15:46:48.707Z"
      },
      {
        "duration": 3,
        "start_time": "2024-12-02T15:48:24.455Z"
      },
      {
        "duration": 3,
        "start_time": "2024-12-02T15:48:31.768Z"
      },
      {
        "duration": 8,
        "start_time": "2024-12-02T15:48:41.396Z"
      },
      {
        "duration": 4,
        "start_time": "2024-12-02T15:49:14.724Z"
      },
      {
        "duration": 4,
        "start_time": "2024-12-02T15:49:21.276Z"
      },
      {
        "duration": 8,
        "start_time": "2024-12-02T15:49:26.837Z"
      },
      {
        "duration": 4,
        "start_time": "2024-12-02T15:49:51.674Z"
      },
      {
        "duration": 8,
        "start_time": "2024-12-02T15:49:59.090Z"
      },
      {
        "duration": 179,
        "start_time": "2024-12-02T15:54:05.023Z"
      },
      {
        "duration": 161,
        "start_time": "2024-12-02T15:54:08.988Z"
      },
      {
        "duration": 335,
        "start_time": "2024-12-02T15:54:14.429Z"
      },
      {
        "duration": 166,
        "start_time": "2024-12-02T15:54:19.621Z"
      },
      {
        "duration": 305,
        "start_time": "2024-12-02T15:54:23.224Z"
      },
      {
        "duration": 95,
        "start_time": "2024-12-02T15:54:26.604Z"
      },
      {
        "duration": 104,
        "start_time": "2024-12-02T15:54:29.467Z"
      },
      {
        "duration": 103,
        "start_time": "2024-12-02T15:54:31.872Z"
      },
      {
        "duration": 1340,
        "start_time": "2025-07-31T11:40:30.154Z"
      },
      {
        "duration": 39,
        "start_time": "2025-07-31T11:40:31.496Z"
      },
      {
        "duration": 12,
        "start_time": "2025-07-31T11:40:31.536Z"
      },
      {
        "duration": 35,
        "start_time": "2025-07-31T11:40:31.550Z"
      },
      {
        "duration": 120,
        "start_time": "2025-07-31T11:40:31.587Z"
      },
      {
        "duration": 178,
        "start_time": "2025-07-31T11:40:31.709Z"
      },
      {
        "duration": 46,
        "start_time": "2025-07-31T11:40:31.889Z"
      },
      {
        "duration": 99,
        "start_time": "2025-07-31T11:40:31.937Z"
      },
      {
        "duration": 208,
        "start_time": "2025-07-31T11:40:32.038Z"
      },
      {
        "duration": 53,
        "start_time": "2025-07-31T11:40:32.249Z"
      },
      {
        "duration": 10,
        "start_time": "2025-07-31T11:40:32.304Z"
      },
      {
        "duration": 33,
        "start_time": "2025-07-31T11:40:32.315Z"
      },
      {
        "duration": 313,
        "start_time": "2025-07-31T11:40:32.350Z"
      },
      {
        "duration": 285,
        "start_time": "2025-07-31T11:40:32.665Z"
      },
      {
        "duration": 200,
        "start_time": "2025-07-31T11:40:32.952Z"
      },
      {
        "duration": 345,
        "start_time": "2025-07-31T11:40:33.155Z"
      },
      {
        "duration": 231,
        "start_time": "2025-07-31T11:40:33.503Z"
      },
      {
        "duration": 437,
        "start_time": "2025-07-31T11:40:33.736Z"
      },
      {
        "duration": 60,
        "start_time": "2025-07-31T11:40:34.175Z"
      },
      {
        "duration": 232,
        "start_time": "2025-07-31T11:40:34.237Z"
      },
      {
        "duration": 4,
        "start_time": "2025-07-31T11:40:34.471Z"
      },
      {
        "duration": 60,
        "start_time": "2025-07-31T11:40:34.476Z"
      },
      {
        "duration": 234,
        "start_time": "2025-07-31T11:40:34.538Z"
      },
      {
        "duration": 285,
        "start_time": "2025-07-31T11:40:34.773Z"
      },
      {
        "duration": 4,
        "start_time": "2025-07-31T11:40:35.060Z"
      },
      {
        "duration": 83,
        "start_time": "2025-07-31T11:40:35.065Z"
      },
      {
        "duration": 458,
        "start_time": "2025-07-31T11:40:35.150Z"
      },
      {
        "duration": 160,
        "start_time": "2025-07-31T11:40:35.612Z"
      },
      {
        "duration": 11,
        "start_time": "2025-07-31T11:40:35.773Z"
      },
      {
        "duration": 320,
        "start_time": "2025-07-31T11:40:35.785Z"
      },
      {
        "duration": 203,
        "start_time": "2025-07-31T11:40:36.107Z"
      },
      {
        "duration": 13,
        "start_time": "2025-07-31T11:40:36.312Z"
      }
    ],
    "toc": {
      "base_numbering": 1,
      "nav_menu": {},
      "number_sections": true,
      "sideBar": true,
      "skip_h1_title": true,
      "title_cell": "Table of Contents",
      "title_sidebar": "Contents",
      "toc_cell": false,
      "toc_position": {
        "height": "calc(100% - 180px)",
        "left": "10px",
        "top": "150px",
        "width": "288px"
      },
      "toc_section_display": true,
      "toc_window_display": true
    }
  },
  "nbformat_minor": 4,
  "nbformat": 4,
  "cells": [
    {
      "cell_type": "markdown",
      "source": "# Проект принятие решений в бизнесе",
      "metadata": {}
    },
    {
      "cell_type": "markdown",
      "source": "## Вступление\n**Цель проекта:** проанализировать список гипотез и проанализировать результаты A/B теста\n\nВ нашем распоряжении есть 3 датасета:\n- датасет с гипотезами\n- датасет с заказами\n- датасет с посетителями\n\nРазделим работу по проекту на следующие этапы:\n- Вступление\n- Приоритезация гипотез\n    - Применим фреймворк ICE для приоритезации гипотез\n    - Применим фреймворк RICE для приоритезации гипотез\n    - Оценим, как изменилась приоритезация гипотез при изменении фреймворка ICE на RICE\n- Анализ А/В теста\n- Выводы\n",
      "metadata": {}
    },
    {
      "cell_type": "code",
      "source": "import pandas as pd\nimport datetime as dt\nimport numpy as np\nimport matplotlib.pyplot as plt\nimport scipy.stats as stats",
      "metadata": {},
      "outputs": [],
      "execution_count": 1
    },
    {
      "cell_type": "markdown",
      "source": "## Приоритезация гипотез",
      "metadata": {}
    },
    {
      "cell_type": "markdown",
      "source": "### Применим фреймворк ICE для приоритезации гипотез",
      "metadata": {}
    },
    {
      "cell_type": "code",
      "source": "#прочитаем файл с гипотезами\nhypothesis = pd.read_csv('/datasets/hypothesis.csv')\nhypothesis.head(10)",
      "metadata": {},
      "outputs": [
        {
          "data": {
            "text/html": [
              "<div>\n",
              "<style scoped>\n",
              "    .dataframe tbody tr th:only-of-type {\n",
              "        vertical-align: middle;\n",
              "    }\n",
              "\n",
              "    .dataframe tbody tr th {\n",
              "        vertical-align: top;\n",
              "    }\n",
              "\n",
              "    .dataframe thead th {\n",
              "        text-align: right;\n",
              "    }\n",
              "</style>\n",
              "<table border=\"1\" class=\"dataframe\">\n",
              "  <thead>\n",
              "    <tr style=\"text-align: right;\">\n",
              "      <th></th>\n",
              "      <th>Hypothesis</th>\n",
              "      <th>Reach</th>\n",
              "      <th>Impact</th>\n",
              "      <th>Confidence</th>\n",
              "      <th>Efforts</th>\n",
              "    </tr>\n",
              "  </thead>\n",
              "  <tbody>\n",
              "    <tr>\n",
              "      <th>0</th>\n",
              "      <td>Добавить два новых канала привлечения трафика,...</td>\n",
              "      <td>3</td>\n",
              "      <td>10</td>\n",
              "      <td>8</td>\n",
              "      <td>6</td>\n",
              "    </tr>\n",
              "    <tr>\n",
              "      <th>1</th>\n",
              "      <td>Запустить собственную службу доставки, что сок...</td>\n",
              "      <td>2</td>\n",
              "      <td>5</td>\n",
              "      <td>4</td>\n",
              "      <td>10</td>\n",
              "    </tr>\n",
              "    <tr>\n",
              "      <th>2</th>\n",
              "      <td>Добавить блоки рекомендаций товаров на сайт ин...</td>\n",
              "      <td>8</td>\n",
              "      <td>3</td>\n",
              "      <td>7</td>\n",
              "      <td>3</td>\n",
              "    </tr>\n",
              "    <tr>\n",
              "      <th>3</th>\n",
              "      <td>Изменить структура категорий, что увеличит кон...</td>\n",
              "      <td>8</td>\n",
              "      <td>3</td>\n",
              "      <td>3</td>\n",
              "      <td>8</td>\n",
              "    </tr>\n",
              "    <tr>\n",
              "      <th>4</th>\n",
              "      <td>Изменить цвет фона главной страницы, чтобы уве...</td>\n",
              "      <td>3</td>\n",
              "      <td>1</td>\n",
              "      <td>1</td>\n",
              "      <td>1</td>\n",
              "    </tr>\n",
              "    <tr>\n",
              "      <th>5</th>\n",
              "      <td>Добавить страницу отзывов клиентов о магазине,...</td>\n",
              "      <td>3</td>\n",
              "      <td>2</td>\n",
              "      <td>2</td>\n",
              "      <td>3</td>\n",
              "    </tr>\n",
              "    <tr>\n",
              "      <th>6</th>\n",
              "      <td>Показать на главной странице баннеры с актуаль...</td>\n",
              "      <td>5</td>\n",
              "      <td>3</td>\n",
              "      <td>8</td>\n",
              "      <td>3</td>\n",
              "    </tr>\n",
              "    <tr>\n",
              "      <th>7</th>\n",
              "      <td>Добавить форму подписки на все основные страни...</td>\n",
              "      <td>10</td>\n",
              "      <td>7</td>\n",
              "      <td>8</td>\n",
              "      <td>5</td>\n",
              "    </tr>\n",
              "    <tr>\n",
              "      <th>8</th>\n",
              "      <td>Запустить акцию, дающую скидку на товар в день...</td>\n",
              "      <td>1</td>\n",
              "      <td>9</td>\n",
              "      <td>9</td>\n",
              "      <td>5</td>\n",
              "    </tr>\n",
              "  </tbody>\n",
              "</table>\n",
              "</div>"
            ],
            "text/plain": [
              "                                          Hypothesis  Reach  Impact  \\\n",
              "0  Добавить два новых канала привлечения трафика,...      3      10   \n",
              "1  Запустить собственную службу доставки, что сок...      2       5   \n",
              "2  Добавить блоки рекомендаций товаров на сайт ин...      8       3   \n",
              "3  Изменить структура категорий, что увеличит кон...      8       3   \n",
              "4  Изменить цвет фона главной страницы, чтобы уве...      3       1   \n",
              "5  Добавить страницу отзывов клиентов о магазине,...      3       2   \n",
              "6  Показать на главной странице баннеры с актуаль...      5       3   \n",
              "7  Добавить форму подписки на все основные страни...     10       7   \n",
              "8  Запустить акцию, дающую скидку на товар в день...      1       9   \n",
              "\n",
              "   Confidence  Efforts  \n",
              "0           8        6  \n",
              "1           4       10  \n",
              "2           7        3  \n",
              "3           3        8  \n",
              "4           1        1  \n",
              "5           2        3  \n",
              "6           8        3  \n",
              "7           8        5  \n",
              "8           9        5  "
            ]
          },
          "execution_count": 2,
          "metadata": {},
          "output_type": "execute_result"
        }
      ],
      "execution_count": 2
    },
    {
      "cell_type": "code",
      "source": "#выведем информацию о датасете\nhypothesis.info()",
      "metadata": {},
      "outputs": [
        {
          "name": "stdout",
          "output_type": "stream",
          "text": "<class 'pandas.core.frame.DataFrame'>\n,RangeIndex: 9 entries, 0 to 8\n,Data columns (total 5 columns):\n, #   Column      Non-Null Count  Dtype \n,---  ------      --------------  ----- \n, 0   Hypothesis  9 non-null      object\n, 1   Reach       9 non-null      int64 \n, 2   Impact      9 non-null      int64 \n, 3   Confidence  9 non-null      int64 \n, 4   Efforts     9 non-null      int64 \n,dtypes: int64(4), object(1)\n,memory usage: 488.0+ bytes\n"
        }
      ],
      "execution_count": 3
    },
    {
      "cell_type": "markdown",
      "source": "В датасете представлено 9 гипотез, нулевых значений нет.",
      "metadata": {}
    },
    {
      "cell_type": "code",
      "source": "#приведем названия столбцов к \"змеинному стилю\"\nhypothesis = hypothesis.rename(columns={'Hypothesis': 'hypothesis', 'Reach':'reach', 'Impact':'impact', \n                                        'Confidence':'confidence', 'Efforts':'efforts'})\nhypothesis.head()",
      "metadata": {},
      "outputs": [
        {
          "data": {
            "text/html": [
              "<div>\n",
              "<style scoped>\n",
              "    .dataframe tbody tr th:only-of-type {\n",
              "        vertical-align: middle;\n",
              "    }\n",
              "\n",
              "    .dataframe tbody tr th {\n",
              "        vertical-align: top;\n",
              "    }\n",
              "\n",
              "    .dataframe thead th {\n",
              "        text-align: right;\n",
              "    }\n",
              "</style>\n",
              "<table border=\"1\" class=\"dataframe\">\n",
              "  <thead>\n",
              "    <tr style=\"text-align: right;\">\n",
              "      <th></th>\n",
              "      <th>hypothesis</th>\n",
              "      <th>reach</th>\n",
              "      <th>impact</th>\n",
              "      <th>confidence</th>\n",
              "      <th>efforts</th>\n",
              "    </tr>\n",
              "  </thead>\n",
              "  <tbody>\n",
              "    <tr>\n",
              "      <th>0</th>\n",
              "      <td>Добавить два новых канала привлечения трафика,...</td>\n",
              "      <td>3</td>\n",
              "      <td>10</td>\n",
              "      <td>8</td>\n",
              "      <td>6</td>\n",
              "    </tr>\n",
              "    <tr>\n",
              "      <th>1</th>\n",
              "      <td>Запустить собственную службу доставки, что сок...</td>\n",
              "      <td>2</td>\n",
              "      <td>5</td>\n",
              "      <td>4</td>\n",
              "      <td>10</td>\n",
              "    </tr>\n",
              "    <tr>\n",
              "      <th>2</th>\n",
              "      <td>Добавить блоки рекомендаций товаров на сайт ин...</td>\n",
              "      <td>8</td>\n",
              "      <td>3</td>\n",
              "      <td>7</td>\n",
              "      <td>3</td>\n",
              "    </tr>\n",
              "    <tr>\n",
              "      <th>3</th>\n",
              "      <td>Изменить структура категорий, что увеличит кон...</td>\n",
              "      <td>8</td>\n",
              "      <td>3</td>\n",
              "      <td>3</td>\n",
              "      <td>8</td>\n",
              "    </tr>\n",
              "    <tr>\n",
              "      <th>4</th>\n",
              "      <td>Изменить цвет фона главной страницы, чтобы уве...</td>\n",
              "      <td>3</td>\n",
              "      <td>1</td>\n",
              "      <td>1</td>\n",
              "      <td>1</td>\n",
              "    </tr>\n",
              "  </tbody>\n",
              "</table>\n",
              "</div>"
            ],
            "text/plain": [
              "                                          hypothesis  reach  impact  \\\n",
              "0  Добавить два новых канала привлечения трафика,...      3      10   \n",
              "1  Запустить собственную службу доставки, что сок...      2       5   \n",
              "2  Добавить блоки рекомендаций товаров на сайт ин...      8       3   \n",
              "3  Изменить структура категорий, что увеличит кон...      8       3   \n",
              "4  Изменить цвет фона главной страницы, чтобы уве...      3       1   \n",
              "\n",
              "   confidence  efforts  \n",
              "0           8        6  \n",
              "1           4       10  \n",
              "2           7        3  \n",
              "3           3        8  \n",
              "4           1        1  "
            ]
          },
          "execution_count": 4,
          "metadata": {},
          "output_type": "execute_result"
        }
      ],
      "execution_count": 4
    },
    {
      "cell_type": "code",
      "source": "hypothesis['ice'] = hypothesis['impact'] * hypothesis['confidence'] / hypothesis['efforts']\ndisplay(hypothesis.sort_values(by='ice', ascending=False).head())\n\n#выведем полные названия первых 3-х гипотез\nlist(hypothesis.sort_values(by='ice', ascending=False)['hypothesis'].head(3))",
      "metadata": {},
      "outputs": [
        {
          "data": {
            "text/html": [
              "<div>\n",
              "<style scoped>\n",
              "    .dataframe tbody tr th:only-of-type {\n",
              "        vertical-align: middle;\n",
              "    }\n",
              "\n",
              "    .dataframe tbody tr th {\n",
              "        vertical-align: top;\n",
              "    }\n",
              "\n",
              "    .dataframe thead th {\n",
              "        text-align: right;\n",
              "    }\n",
              "</style>\n",
              "<table border=\"1\" class=\"dataframe\">\n",
              "  <thead>\n",
              "    <tr style=\"text-align: right;\">\n",
              "      <th></th>\n",
              "      <th>hypothesis</th>\n",
              "      <th>reach</th>\n",
              "      <th>impact</th>\n",
              "      <th>confidence</th>\n",
              "      <th>efforts</th>\n",
              "      <th>ice</th>\n",
              "    </tr>\n",
              "  </thead>\n",
              "  <tbody>\n",
              "    <tr>\n",
              "      <th>8</th>\n",
              "      <td>Запустить акцию, дающую скидку на товар в день...</td>\n",
              "      <td>1</td>\n",
              "      <td>9</td>\n",
              "      <td>9</td>\n",
              "      <td>5</td>\n",
              "      <td>16.200000</td>\n",
              "    </tr>\n",
              "    <tr>\n",
              "      <th>0</th>\n",
              "      <td>Добавить два новых канала привлечения трафика,...</td>\n",
              "      <td>3</td>\n",
              "      <td>10</td>\n",
              "      <td>8</td>\n",
              "      <td>6</td>\n",
              "      <td>13.333333</td>\n",
              "    </tr>\n",
              "    <tr>\n",
              "      <th>7</th>\n",
              "      <td>Добавить форму подписки на все основные страни...</td>\n",
              "      <td>10</td>\n",
              "      <td>7</td>\n",
              "      <td>8</td>\n",
              "      <td>5</td>\n",
              "      <td>11.200000</td>\n",
              "    </tr>\n",
              "    <tr>\n",
              "      <th>6</th>\n",
              "      <td>Показать на главной странице баннеры с актуаль...</td>\n",
              "      <td>5</td>\n",
              "      <td>3</td>\n",
              "      <td>8</td>\n",
              "      <td>3</td>\n",
              "      <td>8.000000</td>\n",
              "    </tr>\n",
              "    <tr>\n",
              "      <th>2</th>\n",
              "      <td>Добавить блоки рекомендаций товаров на сайт ин...</td>\n",
              "      <td>8</td>\n",
              "      <td>3</td>\n",
              "      <td>7</td>\n",
              "      <td>3</td>\n",
              "      <td>7.000000</td>\n",
              "    </tr>\n",
              "  </tbody>\n",
              "</table>\n",
              "</div>"
            ],
            "text/plain": [
              "                                          hypothesis  reach  impact  \\\n",
              "8  Запустить акцию, дающую скидку на товар в день...      1       9   \n",
              "0  Добавить два новых канала привлечения трафика,...      3      10   \n",
              "7  Добавить форму подписки на все основные страни...     10       7   \n",
              "6  Показать на главной странице баннеры с актуаль...      5       3   \n",
              "2  Добавить блоки рекомендаций товаров на сайт ин...      8       3   \n",
              "\n",
              "   confidence  efforts        ice  \n",
              "8           9        5  16.200000  \n",
              "0           8        6  13.333333  \n",
              "7           8        5  11.200000  \n",
              "6           8        3   8.000000  \n",
              "2           7        3   7.000000  "
            ]
          },
          "metadata": {},
          "output_type": "display_data"
        },
        {
          "data": {
            "text/plain": [
              "['Запустить акцию, дающую скидку на товар в день рождения',\n",
              " 'Добавить два новых канала привлечения трафика, что позволит привлекать на 30% больше пользователей',\n",
              " 'Добавить форму подписки на все основные страницы, чтобы собрать базу клиентов для email-рассылок']"
            ]
          },
          "execution_count": 5,
          "metadata": {},
          "output_type": "execute_result"
        }
      ],
      "execution_count": 5
    },
    {
      "cell_type": "markdown",
      "source": "Самыми приоритетными гипотезами явлется гипотезы с индексами:\n- 8 (Запустить акцию, дающую скидку на товар в день рождения), \n- 0 (Добавить два новых канала привлечения трафика, что позволит привлекать на 30% больше пользователей)\n- 7 (Добавить форму подписки на все основные страницы, чтобы собрать базу клиентов для email-рассылок).",
      "metadata": {}
    },
    {
      "cell_type": "markdown",
      "source": "### Применим фреймворк RICE для приоритезации гипотез",
      "metadata": {}
    },
    {
      "cell_type": "code",
      "source": "pd.set_option('display.max_colwidth', None)\nhypothesis['rice'] = hypothesis['reach'] * hypothesis['impact'] * hypothesis['confidence'] / hypothesis['efforts']\ndisplay(hypothesis.sort_values(by='rice', ascending=False).head())\n\npd.reset_option('display.max_colwidth')",
      "metadata": {},
      "outputs": [
        {
          "data": {
            "text/html": [
              "<div>\n",
              "<style scoped>\n",
              "    .dataframe tbody tr th:only-of-type {\n",
              "        vertical-align: middle;\n",
              "    }\n",
              "\n",
              "    .dataframe tbody tr th {\n",
              "        vertical-align: top;\n",
              "    }\n",
              "\n",
              "    .dataframe thead th {\n",
              "        text-align: right;\n",
              "    }\n",
              "</style>\n",
              "<table border=\"1\" class=\"dataframe\">\n",
              "  <thead>\n",
              "    <tr style=\"text-align: right;\">\n",
              "      <th></th>\n",
              "      <th>hypothesis</th>\n",
              "      <th>reach</th>\n",
              "      <th>impact</th>\n",
              "      <th>confidence</th>\n",
              "      <th>efforts</th>\n",
              "      <th>ice</th>\n",
              "      <th>rice</th>\n",
              "    </tr>\n",
              "  </thead>\n",
              "  <tbody>\n",
              "    <tr>\n",
              "      <th>7</th>\n",
              "      <td>Добавить форму подписки на все основные страницы, чтобы собрать базу клиентов для email-рассылок</td>\n",
              "      <td>10</td>\n",
              "      <td>7</td>\n",
              "      <td>8</td>\n",
              "      <td>5</td>\n",
              "      <td>11.200000</td>\n",
              "      <td>112.0</td>\n",
              "    </tr>\n",
              "    <tr>\n",
              "      <th>2</th>\n",
              "      <td>Добавить блоки рекомендаций товаров на сайт интернет магазина, чтобы повысить конверсию и средний чек заказа</td>\n",
              "      <td>8</td>\n",
              "      <td>3</td>\n",
              "      <td>7</td>\n",
              "      <td>3</td>\n",
              "      <td>7.000000</td>\n",
              "      <td>56.0</td>\n",
              "    </tr>\n",
              "    <tr>\n",
              "      <th>0</th>\n",
              "      <td>Добавить два новых канала привлечения трафика, что позволит привлекать на 30% больше пользователей</td>\n",
              "      <td>3</td>\n",
              "      <td>10</td>\n",
              "      <td>8</td>\n",
              "      <td>6</td>\n",
              "      <td>13.333333</td>\n",
              "      <td>40.0</td>\n",
              "    </tr>\n",
              "    <tr>\n",
              "      <th>6</th>\n",
              "      <td>Показать на главной странице баннеры с актуальными акциями и распродажами, чтобы увеличить конверсию</td>\n",
              "      <td>5</td>\n",
              "      <td>3</td>\n",
              "      <td>8</td>\n",
              "      <td>3</td>\n",
              "      <td>8.000000</td>\n",
              "      <td>40.0</td>\n",
              "    </tr>\n",
              "    <tr>\n",
              "      <th>8</th>\n",
              "      <td>Запустить акцию, дающую скидку на товар в день рождения</td>\n",
              "      <td>1</td>\n",
              "      <td>9</td>\n",
              "      <td>9</td>\n",
              "      <td>5</td>\n",
              "      <td>16.200000</td>\n",
              "      <td>16.2</td>\n",
              "    </tr>\n",
              "  </tbody>\n",
              "</table>\n",
              "</div>"
            ],
            "text/plain": [
              "                                                                                                     hypothesis  \\\n",
              "7              Добавить форму подписки на все основные страницы, чтобы собрать базу клиентов для email-рассылок   \n",
              "2  Добавить блоки рекомендаций товаров на сайт интернет магазина, чтобы повысить конверсию и средний чек заказа   \n",
              "0            Добавить два новых канала привлечения трафика, что позволит привлекать на 30% больше пользователей   \n",
              "6          Показать на главной странице баннеры с актуальными акциями и распродажами, чтобы увеличить конверсию   \n",
              "8                                                       Запустить акцию, дающую скидку на товар в день рождения   \n",
              "\n",
              "   reach  impact  confidence  efforts        ice   rice  \n",
              "7     10       7           8        5  11.200000  112.0  \n",
              "2      8       3           7        3   7.000000   56.0  \n",
              "0      3      10           8        6  13.333333   40.0  \n",
              "6      5       3           8        3   8.000000   40.0  \n",
              "8      1       9           9        5  16.200000   16.2  "
            ]
          },
          "metadata": {},
          "output_type": "display_data"
        }
      ],
      "execution_count": 6
    },
    {
      "cell_type": "markdown",
      "source": "Самыми приоритетными гипотезами явлется гипотезы с индексами:\n- 7 (Добавить форму подписки на все основные страницы, чтобы собрать базу клиентов для email-рассылок), \n- 2 (Добавить блоки рекомендаций товаров на сайт интернет магазина, чтобы повысить конверсию и средний чек заказа)\n- 0 (Добавить два новых канала привлечения трафика, что позволит привлекать на 30% больше пользователей).",
      "metadata": {}
    },
    {
      "cell_type": "markdown",
      "source": "### Оценим, как изменилась приоритезация гипотез при изменении фреймворка ICE на RICE",
      "metadata": {}
    },
    {
      "cell_type": "markdown",
      "source": "При изменении приоритезации гипотез с ICE на RICE изменился порядок наиболее приоритетных гипотез. В ТОП-3 ICE входят гипотезы 8, 7, 0, а в ТОП-3 RICE входят гипотезы 7, 2, 0. Различие связано с добавлением критерия Reach, обозначающий количество пользователей, которых заденет планируемое изменение. Критерий Reach для гипотез 7 и 2 оказался выше, чем у гипотез 8, 0 и 6, поэтому они поднялись в списке выше по итоговому значению RICE",
      "metadata": {}
    },
    {
      "cell_type": "markdown",
      "source": "## Анализ А/В теста",
      "metadata": {}
    },
    {
      "cell_type": "markdown",
      "source": "### Построим график кумулятивной выручки по группам",
      "metadata": {}
    },
    {
      "cell_type": "markdown",
      "source": "Соберем кумулятивные данные",
      "metadata": {}
    },
    {
      "cell_type": "code",
      "source": "#прочитаем файл с заказами\norders = pd.read_csv('/datasets/orders.csv')\norders.head()",
      "metadata": {},
      "outputs": [
        {
          "data": {
            "text/html": [
              "<div>\n",
              "<style scoped>\n",
              "    .dataframe tbody tr th:only-of-type {\n",
              "        vertical-align: middle;\n",
              "    }\n",
              "\n",
              "    .dataframe tbody tr th {\n",
              "        vertical-align: top;\n",
              "    }\n",
              "\n",
              "    .dataframe thead th {\n",
              "        text-align: right;\n",
              "    }\n",
              "</style>\n",
              "<table border=\"1\" class=\"dataframe\">\n",
              "  <thead>\n",
              "    <tr style=\"text-align: right;\">\n",
              "      <th></th>\n",
              "      <th>transactionId</th>\n",
              "      <th>visitorId</th>\n",
              "      <th>date</th>\n",
              "      <th>revenue</th>\n",
              "      <th>group</th>\n",
              "    </tr>\n",
              "  </thead>\n",
              "  <tbody>\n",
              "    <tr>\n",
              "      <th>0</th>\n",
              "      <td>3667963787</td>\n",
              "      <td>3312258926</td>\n",
              "      <td>2019-08-15</td>\n",
              "      <td>1650</td>\n",
              "      <td>B</td>\n",
              "    </tr>\n",
              "    <tr>\n",
              "      <th>1</th>\n",
              "      <td>2804400009</td>\n",
              "      <td>3642806036</td>\n",
              "      <td>2019-08-15</td>\n",
              "      <td>730</td>\n",
              "      <td>B</td>\n",
              "    </tr>\n",
              "    <tr>\n",
              "      <th>2</th>\n",
              "      <td>2961555356</td>\n",
              "      <td>4069496402</td>\n",
              "      <td>2019-08-15</td>\n",
              "      <td>400</td>\n",
              "      <td>A</td>\n",
              "    </tr>\n",
              "    <tr>\n",
              "      <th>3</th>\n",
              "      <td>3797467345</td>\n",
              "      <td>1196621759</td>\n",
              "      <td>2019-08-15</td>\n",
              "      <td>9759</td>\n",
              "      <td>B</td>\n",
              "    </tr>\n",
              "    <tr>\n",
              "      <th>4</th>\n",
              "      <td>2282983706</td>\n",
              "      <td>2322279887</td>\n",
              "      <td>2019-08-15</td>\n",
              "      <td>2308</td>\n",
              "      <td>B</td>\n",
              "    </tr>\n",
              "  </tbody>\n",
              "</table>\n",
              "</div>"
            ],
            "text/plain": [
              "   transactionId   visitorId        date  revenue group\n",
              "0     3667963787  3312258926  2019-08-15     1650     B\n",
              "1     2804400009  3642806036  2019-08-15      730     B\n",
              "2     2961555356  4069496402  2019-08-15      400     A\n",
              "3     3797467345  1196621759  2019-08-15     9759     B\n",
              "4     2282983706  2322279887  2019-08-15     2308     B"
            ]
          },
          "execution_count": 7,
          "metadata": {},
          "output_type": "execute_result"
        }
      ],
      "execution_count": 7
    },
    {
      "cell_type": "code",
      "source": "#выведем информацию о датасете\norders.info()",
      "metadata": {},
      "outputs": [
        {
          "name": "stdout",
          "output_type": "stream",
          "text": "<class 'pandas.core.frame.DataFrame'>\n,RangeIndex: 1197 entries, 0 to 1196\n,Data columns (total 5 columns):\n, #   Column         Non-Null Count  Dtype \n,---  ------         --------------  ----- \n, 0   transactionId  1197 non-null   int64 \n, 1   visitorId      1197 non-null   int64 \n, 2   date           1197 non-null   object\n, 3   revenue        1197 non-null   int64 \n, 4   group          1197 non-null   object\n,dtypes: int64(3), object(2)\n,memory usage: 46.9+ KB\n"
        }
      ],
      "execution_count": 8
    },
    {
      "cell_type": "markdown",
      "source": "В датасете представлены 1197 уникальных транзакций. Нулевых значений нет. В столбце 'date' поменяем тип данных на datetime ",
      "metadata": {}
    },
    {
      "cell_type": "code",
      "source": "orders['date'] = orders['date'].map(\n    lambda x: dt.datetime.strptime(x, '%Y-%m-%d')\n)\n#проверим изменение типа данных в столбце date\norders.info()",
      "metadata": {},
      "outputs": [
        {
          "name": "stdout",
          "output_type": "stream",
          "text": "<class 'pandas.core.frame.DataFrame'>\n,RangeIndex: 1197 entries, 0 to 1196\n,Data columns (total 5 columns):\n, #   Column         Non-Null Count  Dtype         \n,---  ------         --------------  -----         \n, 0   transactionId  1197 non-null   int64         \n, 1   visitorId      1197 non-null   int64         \n, 2   date           1197 non-null   datetime64[ns]\n, 3   revenue        1197 non-null   int64         \n, 4   group          1197 non-null   object        \n,dtypes: datetime64[ns](1), int64(3), object(1)\n,memory usage: 46.9+ KB\n"
        }
      ],
      "execution_count": 9
    },
    {
      "cell_type": "code",
      "source": "#прочитаем файл с посетителями\nvisitors = pd.read_csv('/datasets/visitors.csv')\nvisitors.head()",
      "metadata": {},
      "outputs": [
        {
          "data": {
            "text/html": [
              "<div>\n",
              "<style scoped>\n",
              "    .dataframe tbody tr th:only-of-type {\n",
              "        vertical-align: middle;\n",
              "    }\n",
              "\n",
              "    .dataframe tbody tr th {\n",
              "        vertical-align: top;\n",
              "    }\n",
              "\n",
              "    .dataframe thead th {\n",
              "        text-align: right;\n",
              "    }\n",
              "</style>\n",
              "<table border=\"1\" class=\"dataframe\">\n",
              "  <thead>\n",
              "    <tr style=\"text-align: right;\">\n",
              "      <th></th>\n",
              "      <th>date</th>\n",
              "      <th>group</th>\n",
              "      <th>visitors</th>\n",
              "    </tr>\n",
              "  </thead>\n",
              "  <tbody>\n",
              "    <tr>\n",
              "      <th>0</th>\n",
              "      <td>2019-08-01</td>\n",
              "      <td>A</td>\n",
              "      <td>719</td>\n",
              "    </tr>\n",
              "    <tr>\n",
              "      <th>1</th>\n",
              "      <td>2019-08-02</td>\n",
              "      <td>A</td>\n",
              "      <td>619</td>\n",
              "    </tr>\n",
              "    <tr>\n",
              "      <th>2</th>\n",
              "      <td>2019-08-03</td>\n",
              "      <td>A</td>\n",
              "      <td>507</td>\n",
              "    </tr>\n",
              "    <tr>\n",
              "      <th>3</th>\n",
              "      <td>2019-08-04</td>\n",
              "      <td>A</td>\n",
              "      <td>717</td>\n",
              "    </tr>\n",
              "    <tr>\n",
              "      <th>4</th>\n",
              "      <td>2019-08-05</td>\n",
              "      <td>A</td>\n",
              "      <td>756</td>\n",
              "    </tr>\n",
              "  </tbody>\n",
              "</table>\n",
              "</div>"
            ],
            "text/plain": [
              "         date group  visitors\n",
              "0  2019-08-01     A       719\n",
              "1  2019-08-02     A       619\n",
              "2  2019-08-03     A       507\n",
              "3  2019-08-04     A       717\n",
              "4  2019-08-05     A       756"
            ]
          },
          "execution_count": 10,
          "metadata": {},
          "output_type": "execute_result"
        }
      ],
      "execution_count": 10
    },
    {
      "cell_type": "code",
      "source": "#выведем информацию о датасете\nvisitors.info()",
      "metadata": {},
      "outputs": [
        {
          "name": "stdout",
          "output_type": "stream",
          "text": "<class 'pandas.core.frame.DataFrame'>\n,RangeIndex: 62 entries, 0 to 61\n,Data columns (total 3 columns):\n, #   Column    Non-Null Count  Dtype \n,---  ------    --------------  ----- \n, 0   date      62 non-null     object\n, 1   group     62 non-null     object\n, 2   visitors  62 non-null     int64 \n,dtypes: int64(1), object(2)\n,memory usage: 1.6+ KB\n"
        }
      ],
      "execution_count": 11
    },
    {
      "cell_type": "markdown",
      "source": "В датасете представлены 62 записи о посетителях. Нулевых значений нет. В столбце 'date' поменяем тип данных на datetime ",
      "metadata": {}
    },
    {
      "cell_type": "code",
      "source": "visitors['date'] = visitors['date'].map(\n    lambda x: dt.datetime.strptime(x, '%Y-%m-%d')\n)\n\n#проверим изменение типа данных в столбце date\nvisitors.info()",
      "metadata": {},
      "outputs": [
        {
          "name": "stdout",
          "output_type": "stream",
          "text": "<class 'pandas.core.frame.DataFrame'>\n,RangeIndex: 62 entries, 0 to 61\n,Data columns (total 3 columns):\n, #   Column    Non-Null Count  Dtype         \n,---  ------    --------------  -----         \n, 0   date      62 non-null     datetime64[ns]\n, 1   group     62 non-null     object        \n, 2   visitors  62 non-null     int64         \n,dtypes: datetime64[ns](1), int64(1), object(1)\n,memory usage: 1.6+ KB\n"
        }
      ],
      "execution_count": 12
    },
    {
      "cell_type": "code",
      "source": "# создаем массив уникальных пар значений дат и групп теста\ndatesGroups = orders[['date','group']].drop_duplicates()\n\nordersAggregated = datesGroups.apply(lambda x: orders[np.logical_and(orders['date'] <= x['date'], orders['group'] == x['group'])]\\\n.agg({'date' : 'max', 'group' : 'max', 'transactionId' : 'nunique', 'visitorId' : 'nunique', 'revenue' : 'sum'}), axis=1).sort_values(by=['date','group'])\n\nvisitorsAggregated = datesGroups.apply(lambda x: visitors[np.logical_and(visitors['date'] <= x['date'], visitors['group'] == x['group'])].agg({'date' : 'max', 'group' : 'max', 'visitors' : 'sum'}), axis=1).sort_values(by=['date','group'])\n\ncumulativeData = ordersAggregated.merge(visitorsAggregated, left_on=['date', 'group'], right_on=['date', 'group'])\n\ncumulativeData.columns = ['date', 'group', 'orders', 'buyers', 'revenue', 'visitors']\n\n#выведем результат с кумулятивными данными\nprint(cumulativeData.head(5)) ",
      "metadata": {},
      "outputs": [
        {
          "name": "stdout",
          "output_type": "stream",
          "text": "        date group  orders  buyers  revenue  visitors\n,0 2019-08-01     A      24      20   148579       719\n,1 2019-08-01     B      21      20   101217       713\n,2 2019-08-02     A      44      38   242401      1338\n,3 2019-08-02     B      45      43   266748      1294\n,4 2019-08-03     A      68      62   354874      1845\n"
        }
      ],
      "execution_count": 13
    },
    {
      "cell_type": "code",
      "source": "# датафрейм с кумулятивным количеством заказов и кумулятивной выручкой по дням в группе А\ncumulativeRevenueA = cumulativeData[cumulativeData['group']=='A'][['date','revenue', 'orders']]\n\n# датафрейм с кумулятивным количеством заказов и кумулятивной выручкой по дням в группе B\ncumulativeRevenueB = cumulativeData[cumulativeData['group']=='B'][['date','revenue', 'orders']]\n\n# Строим график выручки группы А\nplt.plot(cumulativeRevenueA['date'], cumulativeRevenueA['revenue'], label='A')\n\n# Строим график выручки группы B\nplt.plot(cumulativeRevenueB['date'], cumulativeRevenueB['revenue'], label='B')\nplt.title('График кумулятивной выручки по группам')\nplt.xticks(rotation=45)\nplt.legend();",
      "metadata": {},
      "outputs": [
        {
          "data": {
            "image/png": "[encoded data removed]",
            "text/plain": [
              "<Figure size 432x288 with 1 Axes>"
            ]
          },
          "metadata": {
            "needs_background": "light"
          },
          "output_type": "display_data"
        }
      ],
      "execution_count": 14
    },
    {
      "cell_type": "markdown",
      "source": "Вначале выручка группы В стала больше выручки группы А, но к 13.08.2019 показатели сравнялись. Далее кумулятивная выручка группы В резко взрастает в районе 18.08.2019, скорее всего это связано с крупными заказами, т.е. аномалиями (выбросами). В будущем анализе исключим их.  ",
      "metadata": {}
    },
    {
      "cell_type": "markdown",
      "source": "### Построим график кумулятивного среднего чека по группам",
      "metadata": {}
    },
    {
      "cell_type": "code",
      "source": "plt.plot(cumulativeRevenueA['date'], cumulativeRevenueA['revenue']/cumulativeRevenueA['orders'], label='A')\nplt.plot(cumulativeRevenueB['date'], cumulativeRevenueB['revenue']/cumulativeRevenueB['orders'], label='B')\nplt.title('График кумулятивного среднего чека по группам')\nplt.xticks(rotation=45)\nplt.legend();",
      "metadata": {},
      "outputs": [
        {
          "data": {
            "image/png": "[encoded data removed]",
            "text/plain": [
              "<Figure size 432x288 with 1 Axes>"
            ]
          },
          "metadata": {
            "needs_background": "light"
          },
          "output_type": "display_data"
        }
      ],
      "execution_count": 15
    },
    {
      "cell_type": "markdown",
      "source": "Средний чек группы А имеет сильный рост в районе 18.08.2019, скорее всего это так же связано с крупными заказами.",
      "metadata": {}
    },
    {
      "cell_type": "markdown",
      "source": "### Построим график относительного изменения кумулятивного среднего чека по группам",
      "metadata": {}
    },
    {
      "cell_type": "code",
      "source": "# собираем данные в одном датафрейме\nmergedCumulativeRevenue = cumulativeRevenueA.merge(cumulativeRevenueB, left_on='date', right_on='date', how='left', suffixes=['A', 'B'])\n\n# cтроим отношение средних чеков\nplt.plot(mergedCumulativeRevenue['date'], (mergedCumulativeRevenue['revenueB']/mergedCumulativeRevenue['ordersB'])/(mergedCumulativeRevenue['revenueA']/mergedCumulativeRevenue['ordersA'])-1)\nplt.title('График изменения кумулятивного среднего чека группы В относительно группы А')\nplt.xticks(rotation=45)\n# добавляем ось X\nplt.axhline(y=0, color='black', linestyle='--');\n",
      "metadata": {},
      "outputs": [
        {
          "data": {
            "image/png": "[encoded data removed]",
            "text/plain": [
              "<Figure size 432x288 with 1 Axes>"
            ]
          },
          "metadata": {
            "needs_background": "light"
          },
          "output_type": "display_data"
        }
      ],
      "execution_count": 16
    },
    {
      "cell_type": "markdown",
      "source": "Наибольшуя часть времени график находится выше 0, что свидетельствует о том, что кумулятивный средний чек группы В выше, чем у группы А. Последнее значение относительного изменения кумулятивного среднего чека находится в районе 0.27, т.е. 27%. На пике значение достигало 0,5, т.е. 50%.\nГрафик изменения сильно \"скачет\" в районе 2019-08-08 и 2019-08-17, что свидетельствует о наличии выбросов.",
      "metadata": {}
    },
    {
      "cell_type": "markdown",
      "source": "### Построим график кумулятивного среднего количества заказов на посетителя по группам",
      "metadata": {}
    },
    {
      "cell_type": "code",
      "source": "# считаем среднее количество заказов на посетителя\ncumulativeData['conversion'] = cumulativeData['orders']/cumulativeData['visitors']\n\n# отделяем данные по группе A\ncumulativeDataA = cumulativeData[cumulativeData['group']=='A']\n\n# отделяем данные по группе B\ncumulativeDataB = cumulativeData[cumulativeData['group']=='B']\n\n# строим графики\nplt.plot(cumulativeDataA['date'], cumulativeDataA['conversion'], label='A')\nplt.plot(cumulativeDataB['date'], cumulativeDataB['conversion'], label='B')\nplt.title('График кумулятивного среднего количества заказов на посетителя по группам')\nplt.xticks(rotation=45)\nplt.legend()\n\n# задаем масштаб осей\nplt.axis([dt.datetime(2019, 8, 1), dt.datetime(2019, 9, 1), 0.02, 0.05]);",
      "metadata": {},
      "outputs": [
        {
          "data": {
            "image/png": "[encoded data removed]",
            "text/plain": [
              "<Figure size 432x288 with 1 Axes>"
            ]
          },
          "metadata": {
            "needs_background": "light"
          },
          "output_type": "display_data"
        }
      ],
      "execution_count": 17
    },
    {
      "cell_type": "markdown",
      "source": "Среднее кол-во заказов на посетителя в группах стабилизировался возле одного значения. Показатель у группы В оказался выше, чем у группы А.",
      "metadata": {}
    },
    {
      "cell_type": "markdown",
      "source": "",
      "metadata": {}
    },
    {
      "cell_type": "markdown",
      "source": "### Построим график относительного изменения кумулятивного среднего количества заказов на посетителя по группам",
      "metadata": {}
    },
    {
      "cell_type": "code",
      "source": "mergedCumulativeConversions = cumulativeDataA[['date','conversion']].merge(cumulativeDataB[['date','conversion']], left_on='date', right_on='date', how='left', suffixes=['A', 'B'])\n\nplt.plot(mergedCumulativeConversions['date'], mergedCumulativeConversions['conversionB']/mergedCumulativeConversions['conversionA']-1, label=\"Относительный прирост кумулятивного среднего количества заказов на посетителя группы B относительно группы A\")\nplt.legend()\nplt.title('График изменения кумулятивного среднего количества заказов на посетителя группы В относительно группы А')\nplt.xticks(rotation=45)\nplt.axhline(y=0, color='black', linestyle='--')\nplt.axhline(y=0.1, color='grey', linestyle='--')\nplt.axis([dt.datetime(2019, 8, 1), dt.datetime(2019, 9, 1), -0.25, 0.25]);",
      "metadata": {},
      "outputs": [
        {
          "data": {
            "image/png": "[encoded data removed]",
            "text/plain": [
              "<Figure size 432x288 with 1 Axes>"
            ]
          },
          "metadata": {
            "needs_background": "light"
          },
          "output_type": "display_data"
        }
      ],
      "execution_count": 18
    },
    {
      "cell_type": "markdown",
      "source": "В начале теста группа В произрывала группе А, но потом вырвалась вперед.",
      "metadata": {}
    },
    {
      "cell_type": "markdown",
      "source": "### Построим точечный график количества заказов по пользователям",
      "metadata": {}
    },
    {
      "cell_type": "code",
      "source": "#выведем данные о кол-во заказов для каждого пользователя\nordersByUsers = (\n    orders.groupby('visitorId', as_index=False)\n    .agg({'transactionId': 'nunique'})\n)\n\nordersByUsers.columns = ['userId', 'orders']\n\nprint(ordersByUsers.sort_values(by='orders', ascending=False).head(10))",
      "metadata": {},
      "outputs": [
        {
          "name": "stdout",
          "output_type": "stream",
          "text": "          userId  orders\n,1023  4256040402      11\n,591   2458001652      11\n,569   2378935119       9\n,487   2038680547       8\n,44     199603092       5\n,744   3062433592       5\n,55     237748145       5\n,917   3803269165       5\n,299   1230306981       5\n,897   3717692402       5\n"
        }
      ],
      "execution_count": 19
    },
    {
      "cell_type": "code",
      "source": "x_values = pd.Series(range(0,len(ordersByUsers)))\n\nplt.title('Кол-во заказов по пользователям')\nplt.scatter(x_values, ordersByUsers['orders']) ;",
      "metadata": {},
      "outputs": [
        {
          "data": {
            "image/png": "[encoded data removed]",
            "text/plain": [
              "<Figure size 432x288 with 1 Axes>"
            ]
          },
          "metadata": {
            "needs_background": "light"
          },
          "output_type": "display_data"
        }
      ],
      "execution_count": 20
    },
    {
      "cell_type": "markdown",
      "source": "Много пользователей с заказами от 1-го до 2-х. Их точная доля не ясна",
      "metadata": {}
    },
    {
      "cell_type": "markdown",
      "source": "### Посчитаем 95-й и 99-й перцентили количества заказов на пользователя",
      "metadata": {}
    },
    {
      "cell_type": "code",
      "source": "print(np.percentile(ordersByUsers['orders'], [90, 95, 99])) ",
      "metadata": {},
      "outputs": [
        {
          "name": "stdout",
          "output_type": "stream",
          "text": "[1. 2. 4.]\n"
        }
      ],
      "execution_count": 21
    },
    {
      "cell_type": "code",
      "source": "abnormal_order_limit = np.percentile(ordersByUsers['orders'], 95)\nabnormal_order_limit",
      "metadata": {},
      "outputs": [
        {
          "data": {
            "text/plain": [
              "2.0"
            ]
          },
          "execution_count": 22,
          "metadata": {},
          "output_type": "execute_result"
        }
      ],
      "execution_count": 22
    },
    {
      "cell_type": "markdown",
      "source": "Не более 5% пользователей оформили не менее 3-х заказов. Не более 1% пользователей оформили 4 заказа и более заказа. Для границы отсчета аномалий примем пользователей сделавших 3 заказа и более.",
      "metadata": {}
    },
    {
      "cell_type": "markdown",
      "source": "### Построим точечный график стоимостей заказов",
      "metadata": {}
    },
    {
      "cell_type": "code",
      "source": "x_values = pd.Series(range(0,len(orders['revenue'])))\nplt.title('Стоимость заказов')\nplt.scatter(x_values, orders['revenue']);\n",
      "metadata": {},
      "outputs": [
        {
          "data": {
            "image/png": "[encoded data removed]",
            "text/plain": [
              "<Figure size 432x288 with 1 Axes>"
            ]
          },
          "metadata": {
            "needs_background": "light"
          },
          "output_type": "display_data"
        }
      ],
      "execution_count": 23
    },
    {
      "cell_type": "markdown",
      "source": "Во время проведения теста был один крупный заказ более чем на 1,2 млн и еще один крупный заказ на 200 тыс. Увеличим масштаб, чтобы лучше оценить стоимость основной ммассы заказов.",
      "metadata": {}
    },
    {
      "cell_type": "code",
      "source": "x_values = pd.Series(range(0,len(orders['revenue'])))\nplt.title('Стоимость заказов без 2-х крупных заказов')\nplt.scatter(x_values, orders['revenue'])\nplt.axis([0, 1200, 0, 100000]);",
      "metadata": {},
      "outputs": [
        {
          "data": {
            "image/png": "[encoded data removed]",
            "text/plain": [
              "<Figure size 432x288 with 1 Axes>"
            ]
          },
          "metadata": {
            "needs_background": "light"
          },
          "output_type": "display_data"
        }
      ],
      "execution_count": 24
    },
    {
      "cell_type": "markdown",
      "source": "Помимо описанных выше 2-х крупных заказов присутствуют и другие аномальные заказы. Граница аномальных заказов наблюдается в районе от 20 тыс до 40 тыс.",
      "metadata": {}
    },
    {
      "cell_type": "markdown",
      "source": "### Посчитаем 95-й и 99-й перцентили стоимости заказов",
      "metadata": {}
    },
    {
      "cell_type": "code",
      "source": "print(np.percentile(orders['revenue'], [90, 95, 99])) ",
      "metadata": {},
      "outputs": [
        {
          "name": "stdout",
          "output_type": "stream",
          "text": "[18168.  28000.  58233.2]\n"
        }
      ],
      "execution_count": 25
    },
    {
      "cell_type": "markdown",
      "source": "Не более 5% заказов были по стоимости выше 28000. Не более 1% заказов были по стоимост выше 58000. В качестве границы для определения аномальных заказов примем 28000 руб.",
      "metadata": {}
    },
    {
      "cell_type": "code",
      "source": "abnormal_revenue_limit = np.percentile(orders['revenue'], 95)\nabnormal_revenue_limit\n\n",
      "metadata": {},
      "outputs": [
        {
          "data": {
            "text/plain": [
              "28000.000000000004"
            ]
          },
          "execution_count": 26,
          "metadata": {},
          "output_type": "execute_result"
        }
      ],
      "execution_count": 26
    },
    {
      "cell_type": "markdown",
      "source": "### Посчитаем статистическую значимость различий в среднем количестве заказов на посетителя между группами по «сырым» данным",
      "metadata": {}
    },
    {
      "cell_type": "markdown",
      "source": "Сформулируем гипотезы. -\n- Нулевая: различий в среднем количестве заказов между группами нет. \n- Альтернативная: различия в среднем между группами есть.",
      "metadata": {}
    },
    {
      "cell_type": "code",
      "source": "visitorsADaily = visitors[visitors['group'] == 'A'][['date', 'visitors']]\nvisitorsADaily.columns = ['date', 'visitorsPerDateA']\n\nvisitorsACummulative = visitorsADaily.apply(\n    lambda x: visitorsADaily[visitorsADaily['date'] <= x['date']].agg(\n        {'date': 'max', 'visitorsPerDateA': 'sum'}\n    ),\n    axis=1,\n)\nvisitorsACummulative.columns = ['date', 'visitorsCummulativeA']\n\nvisitorsBDaily = visitors[visitors['group'] == 'B'][['date', 'visitors']]\nvisitorsBDaily.columns = ['date', 'visitorsPerDateB']\n\nvisitorsBCummulative = visitorsBDaily.apply(\n    lambda x: visitorsBDaily[visitorsBDaily['date'] <= x['date']].agg(\n        {'date': 'max', 'visitorsPerDateB': 'sum'}\n    ),\n    axis=1,\n)\nvisitorsBCummulative.columns = ['date', 'visitorsCummulativeB']\n\nordersADaily = (\n    orders[orders['group'] == 'A'][['date', 'transactionId', 'visitorId', 'revenue']]\n    .groupby('date', as_index=False)\n    .agg({'transactionId': pd.Series.nunique, 'revenue': 'sum'})\n)\nordersADaily.columns = ['date', 'ordersPerDateA', 'revenuePerDateA']\n\nordersACummulative = ordersADaily.apply(\n    lambda x: ordersADaily[ordersADaily['date'] <= x['date']].agg(\n        {'date': 'max', 'ordersPerDateA': 'sum', 'revenuePerDateA': 'sum'}\n    ),\n    axis=1,\n).sort_values(by=['date'])\nordersACummulative.columns = [\n    'date',\n    'ordersCummulativeA',\n    'revenueCummulativeA',\n]\n\nordersBDaily = (\n    orders[orders['group'] == 'B'][['date', 'transactionId', 'visitorId', 'revenue']]\n    .groupby('date', as_index=False)\n    .agg({'transactionId': pd.Series.nunique, 'revenue': 'sum'})\n)\nordersBDaily.columns = ['date', 'ordersPerDateB', 'revenuePerDateB']\n\nordersBCummulative = ordersBDaily.apply(\n    lambda x: ordersBDaily[ordersBDaily['date'] <= x['date']].agg(\n        {'date': 'max', 'ordersPerDateB': 'sum', 'revenuePerDateB': 'sum'}\n    ),\n    axis=1,\n).sort_values(by=['date'])\nordersBCummulative.columns = [\n    'date',\n    'ordersCummulativeB',\n    'revenueCummulativeB',\n]\n\ndata = (\n    ordersADaily.merge(\n        ordersBDaily, left_on='date', right_on='date', how='left'\n    )\n    .merge(ordersACummulative, left_on='date', right_on='date', how='left')\n    .merge(ordersBCummulative, left_on='date', right_on='date', how='left')\n    .merge(visitorsADaily, left_on='date', right_on='date', how='left')\n    .merge(visitorsBDaily, left_on='date', right_on='date', how='left')\n    .merge(visitorsACummulative, left_on='date', right_on='date', how='left')\n    .merge(visitorsBCummulative, left_on='date', right_on='date', how='left')\n)\n\ndata.head(5)",
      "metadata": {},
      "outputs": [
        {
          "data": {
            "text/html": [
              "<div>\n",
              "<style scoped>\n",
              "    .dataframe tbody tr th:only-of-type {\n",
              "        vertical-align: middle;\n",
              "    }\n",
              "\n",
              "    .dataframe tbody tr th {\n",
              "        vertical-align: top;\n",
              "    }\n",
              "\n",
              "    .dataframe thead th {\n",
              "        text-align: right;\n",
              "    }\n",
              "</style>\n",
              "<table border=\"1\" class=\"dataframe\">\n",
              "  <thead>\n",
              "    <tr style=\"text-align: right;\">\n",
              "      <th></th>\n",
              "      <th>date</th>\n",
              "      <th>ordersPerDateA</th>\n",
              "      <th>revenuePerDateA</th>\n",
              "      <th>ordersPerDateB</th>\n",
              "      <th>revenuePerDateB</th>\n",
              "      <th>ordersCummulativeA</th>\n",
              "      <th>revenueCummulativeA</th>\n",
              "      <th>ordersCummulativeB</th>\n",
              "      <th>revenueCummulativeB</th>\n",
              "      <th>visitorsPerDateA</th>\n",
              "      <th>visitorsPerDateB</th>\n",
              "      <th>visitorsCummulativeA</th>\n",
              "      <th>visitorsCummulativeB</th>\n",
              "    </tr>\n",
              "  </thead>\n",
              "  <tbody>\n",
              "    <tr>\n",
              "      <th>0</th>\n",
              "      <td>2019-08-01</td>\n",
              "      <td>24</td>\n",
              "      <td>148579</td>\n",
              "      <td>21</td>\n",
              "      <td>101217</td>\n",
              "      <td>24</td>\n",
              "      <td>148579</td>\n",
              "      <td>21</td>\n",
              "      <td>101217</td>\n",
              "      <td>719</td>\n",
              "      <td>713</td>\n",
              "      <td>719</td>\n",
              "      <td>713</td>\n",
              "    </tr>\n",
              "    <tr>\n",
              "      <th>1</th>\n",
              "      <td>2019-08-02</td>\n",
              "      <td>20</td>\n",
              "      <td>93822</td>\n",
              "      <td>24</td>\n",
              "      <td>165531</td>\n",
              "      <td>44</td>\n",
              "      <td>242401</td>\n",
              "      <td>45</td>\n",
              "      <td>266748</td>\n",
              "      <td>619</td>\n",
              "      <td>581</td>\n",
              "      <td>1338</td>\n",
              "      <td>1294</td>\n",
              "    </tr>\n",
              "    <tr>\n",
              "      <th>2</th>\n",
              "      <td>2019-08-03</td>\n",
              "      <td>24</td>\n",
              "      <td>112473</td>\n",
              "      <td>16</td>\n",
              "      <td>114248</td>\n",
              "      <td>68</td>\n",
              "      <td>354874</td>\n",
              "      <td>61</td>\n",
              "      <td>380996</td>\n",
              "      <td>507</td>\n",
              "      <td>509</td>\n",
              "      <td>1845</td>\n",
              "      <td>1803</td>\n",
              "    </tr>\n",
              "    <tr>\n",
              "      <th>3</th>\n",
              "      <td>2019-08-04</td>\n",
              "      <td>16</td>\n",
              "      <td>70825</td>\n",
              "      <td>17</td>\n",
              "      <td>108571</td>\n",
              "      <td>84</td>\n",
              "      <td>425699</td>\n",
              "      <td>78</td>\n",
              "      <td>489567</td>\n",
              "      <td>717</td>\n",
              "      <td>770</td>\n",
              "      <td>2562</td>\n",
              "      <td>2573</td>\n",
              "    </tr>\n",
              "    <tr>\n",
              "      <th>4</th>\n",
              "      <td>2019-08-05</td>\n",
              "      <td>25</td>\n",
              "      <td>124218</td>\n",
              "      <td>23</td>\n",
              "      <td>92428</td>\n",
              "      <td>109</td>\n",
              "      <td>549917</td>\n",
              "      <td>101</td>\n",
              "      <td>581995</td>\n",
              "      <td>756</td>\n",
              "      <td>707</td>\n",
              "      <td>3318</td>\n",
              "      <td>3280</td>\n",
              "    </tr>\n",
              "  </tbody>\n",
              "</table>\n",
              "</div>"
            ],
            "text/plain": [
              "        date  ordersPerDateA  revenuePerDateA  ordersPerDateB  \\\n",
              "0 2019-08-01              24           148579              21   \n",
              "1 2019-08-02              20            93822              24   \n",
              "2 2019-08-03              24           112473              16   \n",
              "3 2019-08-04              16            70825              17   \n",
              "4 2019-08-05              25           124218              23   \n",
              "\n",
              "   revenuePerDateB  ordersCummulativeA  revenueCummulativeA  \\\n",
              "0           101217                  24               148579   \n",
              "1           165531                  44               242401   \n",
              "2           114248                  68               354874   \n",
              "3           108571                  84               425699   \n",
              "4            92428                 109               549917   \n",
              "\n",
              "   ordersCummulativeB  revenueCummulativeB  visitorsPerDateA  \\\n",
              "0                  21               101217               719   \n",
              "1                  45               266748               619   \n",
              "2                  61               380996               507   \n",
              "3                  78               489567               717   \n",
              "4                 101               581995               756   \n",
              "\n",
              "   visitorsPerDateB  visitorsCummulativeA  visitorsCummulativeB  \n",
              "0               713                   719                   713  \n",
              "1               581                  1338                  1294  \n",
              "2               509                  1845                  1803  \n",
              "3               770                  2562                  2573  \n",
              "4               707                  3318                  3280  "
            ]
          },
          "execution_count": 27,
          "metadata": {},
          "output_type": "execute_result"
        }
      ],
      "execution_count": 27
    },
    {
      "cell_type": "code",
      "source": "ordersByUsersA = (\n    orders[orders['group'] == 'A']\n    .groupby('visitorId', as_index=False)\n    .agg({'transactionId': pd.Series.nunique})\n)\nordersByUsersA.columns = ['userId', 'orders']\n\nordersByUsersB = (\n    orders[orders['group'] == 'B']\n    .groupby('visitorId', as_index=False)\n    .agg({'transactionId': pd.Series.nunique})\n)\nordersByUsersB.columns = ['userId', 'orders']\n\nsampleA = pd.concat(\n    [\n        ordersByUsersA['orders'],\n        pd.Series(\n            0,\n            index=np.arange(\n                data['visitorsPerDateA'].sum() - len(ordersByUsersA['orders'])\n            ),\n            name='orders',\n        ),\n    ],\n    axis=0,\n)\n\nsampleB = pd.concat(\n    [\n        ordersByUsersB['orders'],\n        pd.Series(\n            0,\n            index=np.arange(\n                data['visitorsPerDateB'].sum() - len(ordersByUsersB['orders'])\n            ),\n            name='orders',\n        ),\n    ],\n    axis=0,\n)\n\nprint(\"{0:.3f}\".format(stats.mannwhitneyu(sampleA, sampleB)[1]))\n\nprint(\"{0:.3f}\".format(sampleB.mean() / sampleA.mean() - 1))",
      "metadata": {},
      "outputs": [
        {
          "name": "stdout",
          "output_type": "stream",
          "text": "0.017\n,0.138\n"
        }
      ],
      "execution_count": 28
    },
    {
      "cell_type": "markdown",
      "source": "По \"сырым\" данным есть различие в среднем числе заказов между группами А и В, т.к. p-value = 0.017 меньше 0,5. Нулевую гипотезу отвергаем. Относительный выигрыш группы В составляет около 13,8%.",
      "metadata": {}
    },
    {
      "cell_type": "markdown",
      "source": "### Посчитаем статистическую значимость различий в среднем чеке заказа между группами по «сырым» данным",
      "metadata": {}
    },
    {
      "cell_type": "markdown",
      "source": "Сформулируем гипотезы. \n- Нулевая гипотеза: различий в среднем чеке между группами нет. \n- Альтернативная гипотеза: различия в среднем чеке между группами есть.",
      "metadata": {}
    },
    {
      "cell_type": "code",
      "source": "print('{0:.3f}'.format(stats.mannwhitneyu(orders[orders['group']=='A']['revenue'], orders[orders['group']=='B']['revenue'])[1]))\nprint('{0:.3f}'.format(orders[orders['group']=='B']['revenue'].mean()/orders[orders['group']=='A']['revenue'].mean()-1))",
      "metadata": {},
      "outputs": [
        {
          "name": "stdout",
          "output_type": "stream",
          "text": "0.729\n,0.259\n"
        }
      ],
      "execution_count": 29
    },
    {
      "cell_type": "markdown",
      "source": "P-value равен 0.729 и больше 0.05. Нет оснований отвергать нулевую гипотезу и считать, что в среднем чеке есть различия. При этом средний чек группы В значительно выше среднего чека группы А примерно на 26%",
      "metadata": {}
    },
    {
      "cell_type": "markdown",
      "source": "### Посчитаем статистическую значимость различий в среднем количестве заказов на посетителя между группами по «очищенным» данным",
      "metadata": {}
    },
    {
      "cell_type": "markdown",
      "source": "За аномальных пользователей примем тех, кто совершил более 2-х заказов (т.е. 3 и более) или тех, кто совершил заказ на сумму больше 28000 руб.",
      "metadata": {}
    },
    {
      "cell_type": "code",
      "source": "usersWithManyOrders = pd.concat(\n    [\n        ordersByUsersA[ordersByUsersA['orders'] > abnormal_order_limit]['userId'],\n        ordersByUsersB[ordersByUsersB['orders'] > abnormal_order_limit]['userId'],\n    ],\n    axis=0,\n)\nusersWithExpensiveOrders = orders[orders['revenue'] > abnormal_revenue_limit]['visitorId']\nabnormalUsers = (\n    pd.concat([usersWithManyOrders, usersWithExpensiveOrders], axis=0)\n    .drop_duplicates()\n    .sort_values()\n)\nprint(abnormalUsers.head(5))\nprint(abnormalUsers.shape[0])",
      "metadata": {},
      "outputs": [
        {
          "name": "stdout",
          "output_type": "stream",
          "text": "1099    148427295\n,18      199603092\n,928     204675465\n,23      237748145\n,37      249864742\n,dtype: int64\n,74\n"
        }
      ],
      "execution_count": 30
    },
    {
      "cell_type": "markdown",
      "source": "74 аномальных пользователя.",
      "metadata": {}
    },
    {
      "cell_type": "code",
      "source": "sampleAFiltered = pd.concat(\n    [\n        ordersByUsersA[\n            np.logical_not(ordersByUsersA['userId'].isin(abnormalUsers))\n        ]['orders'],\n        pd.Series(\n            0,\n            index=np.arange(\n                data['visitorsPerDateA'].sum() - len(ordersByUsersA['orders'])\n            ),\n            name='orders',\n        ),\n    ],\n    axis=0,\n)\n\nsampleBFiltered = pd.concat(\n    [\n        ordersByUsersB[\n            np.logical_not(ordersByUsersB['userId'].isin(abnormalUsers))\n        ]['orders'],\n        pd.Series(\n            0,\n            index=np.arange(\n                data['visitorsPerDateB'].sum() - len(ordersByUsersB['orders'])\n            ),\n            name='orders',\n        ),\n    ],\n    axis=0,\n)\n\nprint('{0:.3f}'.format(stats.mannwhitneyu(sampleAFiltered, sampleBFiltered)[1]))\nprint('{0:.3f}'.format(sampleBFiltered.mean()/sampleAFiltered.mean()-1))",
      "metadata": {},
      "outputs": [
        {
          "name": "stdout",
          "output_type": "stream",
          "text": "0.013\n,0.173\n"
        }
      ],
      "execution_count": 31
    },
    {
      "cell_type": "markdown",
      "source": "Аномальные пользователи не повлияли на среднее количество заказов на пользователя.",
      "metadata": {}
    },
    {
      "cell_type": "markdown",
      "source": "### Посчитаем статистическую значимость различий в среднем чеке заказа между группами по «очищенным» данным",
      "metadata": {}
    },
    {
      "cell_type": "code",
      "source": "print(\n    '{0:.3f}'.format(\n        stats.mannwhitneyu(\n            orders[\n                np.logical_and(\n                    orders['group'] == 'A',\n                    np.logical_not(orders['visitorId'].isin(abnormalUsers)),\n                )\n            ]['revenue'],\n            orders[\n                np.logical_and(\n                    orders['group'] == 'B',\n                    np.logical_not(orders['visitorId'].isin(abnormalUsers)),\n                )\n            ]['revenue'],\n        )[1]\n    )\n)\n\nprint(\n    \"{0:.3f}\".format(\n        orders[\n            np.logical_and(\n                orders['group'] == 'B',\n                np.logical_not(orders['visitorId'].isin(abnormalUsers)),\n            )\n        ]['revenue'].mean()\n        / orders[\n            np.logical_and(\n                orders['group'] == 'A',\n                np.logical_not(orders['visitorId'].isin(abnormalUsers)),\n            )\n        ]['revenue'].mean()\n        - 1\n    )\n)",
      "metadata": {},
      "outputs": [
        {
          "name": "stdout",
          "output_type": "stream",
          "text": "0.738\n,-0.020\n"
        }
      ],
      "execution_count": 32
    },
    {
      "cell_type": "markdown",
      "source": "P-value увеличился, но и разница между сегментами сократилась с 28% до -2%.",
      "metadata": {}
    },
    {
      "cell_type": "markdown",
      "source": "### Примим решение по результатам теста",
      "metadata": {}
    },
    {
      "cell_type": "markdown",
      "source": "Соберем имеющиеся факты:\n- Есть статистически значимое различие по среднему количеству заказов между группами как по \"сырым\" данным, так и после фильтрации аномалий;\n- Нет статистически значимого различия по среднему чеку между группами ни по «сырым», ни по данным после фильтрации аномалий;\n- График различия среднего количества заказов можду группами сообщает, что результат группы В лучше группы А и нет тенденции к ухудшению\n- График различия среднего чека говорит о том, что результаты группы B почти на 25%",
      "metadata": {}
    },
    {
      "cell_type": "markdown",
      "source": "Исходя из указанных выше фактов принимаем решение остановить тест, признать его успешным и победу группы В.",
      "metadata": {}
    },
    {
      "cell_type": "markdown",
      "source": "## Вывод",
      "metadata": {}
    },
    {
      "cell_type": "markdown",
      "source": "В результате исследования гипотез было выявлено, что параметр Reach связанный с кол-вом пользователей, на которых гипотетически повлияет изменение, во фреймворке RICE влияет на приоритезацию гипотез по сравнению с фреймворка ICE.\n\nНаиболее приоритетные гипотезы по фреймворку RICE:\n- 7 (Добавить форму подписки на все основные страницы, чтобы собрать базу клиентов для email-рассылок), \n- 2 (Добавить блоки рекомендаций товаров на сайт интернет магазина, чтобы повысить конверсию и средний чек заказа)\n- 0 (Добавить два новых канала привлечения трафика, что позволит привлекать на 30% больше пользователей).\n\nВ результате анализа А/В теста было принято решение об остановке теста и признания его успешным, исходя из следующих фактов:\n- Есть статистически значимое различие по среднему количеству заказов между группами как по \"сырым\" данным, так и после фильтрации аномалий;\n- Нет статистически значимого различия по среднему чеку между группами ни по «сырым», ни по данным после фильтрации аномалий;\n- График различия среднего количества заказов можду группами сообщает, что результат группы В лучше группы А и нет тенденции к ухудшению\n- График различия среднего чека говорит о том, что результаты группы B почти на 25%",
      "metadata": {}
    }
  ]
}