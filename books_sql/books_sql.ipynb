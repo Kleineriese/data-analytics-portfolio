{
 "cells": [
  {
   "cell_type": "markdown",
   "metadata": {},
   "source": [
    "# Проект по SQL"
   ]
  },
  {
   "cell_type": "markdown",
   "metadata": {},
   "source": [
    "## Вступление"
   ]
  },
  {
   "cell_type": "markdown",
   "metadata": {},
   "source": [
    "**Цели исследования:** проанализировать базу данных крупного сервиса для чтения книг.\n",
    "\n",
    "В нашем расположении есть база данных, содержащая информацию о книгах, авторах, издательствах, пользовательских оценках и сборах.\n",
    "\n",
    "Разделим работу на следующие этапы:\n",
    "1. Вступление\n",
    "2. Загрузка данных\n",
    "3. Исследовательский анализ:\n",
    "        1. Посчитать, сколько книг вышло после 1 января 2000 года;\n",
    "        2. Посчитать количество обзоров и среднюю оценку для каждой книги;\n",
    "        3. Определить издательство, которое выпустило наибольшее число книг толще 50 страниц;\n",
    "        4. Определить автора с самой высокой средней оценкой книг (учитывать только книги с 50 и более оценками);\n",
    "        5. Посчитать среднее количество обзоров от пользователей, которые поставили больше 48 оценок."
   ]
  },
  {
   "cell_type": "markdown",
   "metadata": {},
   "source": [
    "Описание данных:\n",
    "\n",
    "Таблица **books** содержит данные о книгах:\n",
    "\n",
    "- book_id — идентификатор книги;\n",
    "- author_id — идентификатор автора;\n",
    "- title — название книги;\n",
    "- num_pages — количество страниц;\n",
    "- publication_date — дата публикации книги;\n",
    "- publisher_id — идентификатор издателя.\n",
    "\n",
    "Таблица **authors** содержит данные об авторах:\n",
    "\n",
    "- author_id — идентификатор автора;\n",
    "- author — имя автора.\n",
    "\n",
    "Таблица **publishers** содержит данные об издательствах:\n",
    "\n",
    "- publisher_id — идентификатор издательства;\n",
    "- publisher — название издательства;\n",
    "\n",
    "Таблица **ratings** содержит данные о пользовательских оценках книг:\n",
    "\n",
    "- rating_id — идентификатор оценки;\n",
    "- book_id — идентификатор книги;\n",
    "- username — имя пользователя, оставившего оценку;\n",
    "- rating — оценка книги.\n",
    "\n",
    "Таблица **reviews** содержит данные о пользовательских обзорах:\n",
    "\n",
    "- review_id — идентификатор обзора;\n",
    "- book_id — идентификатор книги;\n",
    "- username — имя автора обзора;\n",
    "- text — текст обзора.\n",
    "\n",
    "**Схема данных:**\n",
    "\n",
    "![avatar](https://pictures.s3.yandex.net/resources/scheme_1589269096.png)"
   ]
  },
  {
   "cell_type": "markdown",
   "metadata": {},
   "source": [
    "## Загрузка данных"
   ]
  },
  {
   "cell_type": "markdown",
   "metadata": {},
   "source": [
    "### Загрузим необходимые библиотеки"
   ]
  },
  {
   "cell_type": "code",
   "execution_count": 1,
   "metadata": {},
   "outputs": [],
   "source": [
    "# импортируем библиотеки\n",
    "import pandas as pd\n",
    "from sqlalchemy import text, create_engine\n",
    "\n",
    "# устанавливаем параметры\n",
    "db_config = {'user': 'praktikum_student', # имя пользователя\n",
    "'pwd': 'Sdf4$2;d-d30pp', # пароль\n",
    "'host': 'rc1b-wcoijxj3yxfsf3fs.mdb.yandexcloud.net',\n",
    "'port': 6432, # порт подключения\n",
    "'db': 'data-analyst-final-project-db'} # название базы данных\n",
    "connection_string = 'postgresql://{user}:{pwd}@{host}:{port}/{db}'.format(**db_config)\n",
    "\n",
    "# сохраняем коннектор\n",
    "engine = create_engine(connection_string, connect_args={'sslmode':'require'})\n",
    "\n",
    "con=engine.connect()"
   ]
  },
  {
   "cell_type": "markdown",
   "metadata": {},
   "source": [
    "### Выведем первые 5 строк таблицы с книгами:"
   ]
  },
  {
   "cell_type": "code",
   "execution_count": 2,
   "metadata": {},
   "outputs": [
    {
     "data": {
      "text/html": [
       "<div>\n",
       "<style scoped>\n",
       "    .dataframe tbody tr th:only-of-type {\n",
       "        vertical-align: middle;\n",
       "    }\n",
       "\n",
       "    .dataframe tbody tr th {\n",
       "        vertical-align: top;\n",
       "    }\n",
       "\n",
       "    .dataframe thead th {\n",
       "        text-align: right;\n",
       "    }\n",
       "</style>\n",
       "<table border=\"1\" class=\"dataframe\">\n",
       "  <thead>\n",
       "    <tr style=\"text-align: right;\">\n",
       "      <th></th>\n",
       "      <th>book_id</th>\n",
       "      <th>author_id</th>\n",
       "      <th>title</th>\n",
       "      <th>num_pages</th>\n",
       "      <th>publication_date</th>\n",
       "      <th>publisher_id</th>\n",
       "    </tr>\n",
       "  </thead>\n",
       "  <tbody>\n",
       "    <tr>\n",
       "      <th>0</th>\n",
       "      <td>1</td>\n",
       "      <td>546</td>\n",
       "      <td>'Salem's Lot</td>\n",
       "      <td>594</td>\n",
       "      <td>2005-11-01</td>\n",
       "      <td>93</td>\n",
       "    </tr>\n",
       "    <tr>\n",
       "      <th>1</th>\n",
       "      <td>2</td>\n",
       "      <td>465</td>\n",
       "      <td>1 000 Places to See Before You Die</td>\n",
       "      <td>992</td>\n",
       "      <td>2003-05-22</td>\n",
       "      <td>336</td>\n",
       "    </tr>\n",
       "    <tr>\n",
       "      <th>2</th>\n",
       "      <td>3</td>\n",
       "      <td>407</td>\n",
       "      <td>13 Little Blue Envelopes (Little Blue Envelope...</td>\n",
       "      <td>322</td>\n",
       "      <td>2010-12-21</td>\n",
       "      <td>135</td>\n",
       "    </tr>\n",
       "    <tr>\n",
       "      <th>3</th>\n",
       "      <td>4</td>\n",
       "      <td>82</td>\n",
       "      <td>1491: New Revelations of the Americas Before C...</td>\n",
       "      <td>541</td>\n",
       "      <td>2006-10-10</td>\n",
       "      <td>309</td>\n",
       "    </tr>\n",
       "    <tr>\n",
       "      <th>4</th>\n",
       "      <td>5</td>\n",
       "      <td>125</td>\n",
       "      <td>1776</td>\n",
       "      <td>386</td>\n",
       "      <td>2006-07-04</td>\n",
       "      <td>268</td>\n",
       "    </tr>\n",
       "  </tbody>\n",
       "</table>\n",
       "</div>"
      ],
      "text/plain": [
       "   book_id  author_id                                              title  \\\n",
       "0        1        546                                       'Salem's Lot   \n",
       "1        2        465                 1 000 Places to See Before You Die   \n",
       "2        3        407  13 Little Blue Envelopes (Little Blue Envelope...   \n",
       "3        4         82  1491: New Revelations of the Americas Before C...   \n",
       "4        5        125                                               1776   \n",
       "\n",
       "   num_pages publication_date  publisher_id  \n",
       "0        594       2005-11-01            93  \n",
       "1        992       2003-05-22           336  \n",
       "2        322       2010-12-21           135  \n",
       "3        541       2006-10-10           309  \n",
       "4        386       2006-07-04           268  "
      ]
     },
     "execution_count": 2,
     "metadata": {},
     "output_type": "execute_result"
    }
   ],
   "source": [
    "query = '''\n",
    "SELECT * \n",
    "FROM books \n",
    "LIMIT 5\n",
    "'''\n",
    "\n",
    "pd.io.sql.read_sql(sql=text(query), con = con)"
   ]
  },
  {
   "cell_type": "markdown",
   "metadata": {},
   "source": [
    "### Выведем первые 5 строк таблицы с авторами:"
   ]
  },
  {
   "cell_type": "code",
   "execution_count": 3,
   "metadata": {},
   "outputs": [
    {
     "data": {
      "text/html": [
       "<div>\n",
       "<style scoped>\n",
       "    .dataframe tbody tr th:only-of-type {\n",
       "        vertical-align: middle;\n",
       "    }\n",
       "\n",
       "    .dataframe tbody tr th {\n",
       "        vertical-align: top;\n",
       "    }\n",
       "\n",
       "    .dataframe thead th {\n",
       "        text-align: right;\n",
       "    }\n",
       "</style>\n",
       "<table border=\"1\" class=\"dataframe\">\n",
       "  <thead>\n",
       "    <tr style=\"text-align: right;\">\n",
       "      <th></th>\n",
       "      <th>author_id</th>\n",
       "      <th>author</th>\n",
       "    </tr>\n",
       "  </thead>\n",
       "  <tbody>\n",
       "    <tr>\n",
       "      <th>0</th>\n",
       "      <td>1</td>\n",
       "      <td>A.S. Byatt</td>\n",
       "    </tr>\n",
       "    <tr>\n",
       "      <th>1</th>\n",
       "      <td>2</td>\n",
       "      <td>Aesop/Laura Harris/Laura Gibbs</td>\n",
       "    </tr>\n",
       "    <tr>\n",
       "      <th>2</th>\n",
       "      <td>3</td>\n",
       "      <td>Agatha Christie</td>\n",
       "    </tr>\n",
       "    <tr>\n",
       "      <th>3</th>\n",
       "      <td>4</td>\n",
       "      <td>Alan Brennert</td>\n",
       "    </tr>\n",
       "    <tr>\n",
       "      <th>4</th>\n",
       "      <td>5</td>\n",
       "      <td>Alan Moore/David   Lloyd</td>\n",
       "    </tr>\n",
       "  </tbody>\n",
       "</table>\n",
       "</div>"
      ],
      "text/plain": [
       "   author_id                          author\n",
       "0          1                      A.S. Byatt\n",
       "1          2  Aesop/Laura Harris/Laura Gibbs\n",
       "2          3                 Agatha Christie\n",
       "3          4                   Alan Brennert\n",
       "4          5        Alan Moore/David   Lloyd"
      ]
     },
     "execution_count": 3,
     "metadata": {},
     "output_type": "execute_result"
    }
   ],
   "source": [
    "query = '''\n",
    "SELECT * \n",
    "FROM authors \n",
    "LIMIT 5\n",
    "'''\n",
    "\n",
    "pd.io.sql.read_sql(sql=text(query), con = con)"
   ]
  },
  {
   "cell_type": "markdown",
   "metadata": {},
   "source": [
    "### Выведем первые 5 строк таблицы с издательствами:"
   ]
  },
  {
   "cell_type": "code",
   "execution_count": 4,
   "metadata": {},
   "outputs": [
    {
     "data": {
      "text/html": [
       "<div>\n",
       "<style scoped>\n",
       "    .dataframe tbody tr th:only-of-type {\n",
       "        vertical-align: middle;\n",
       "    }\n",
       "\n",
       "    .dataframe tbody tr th {\n",
       "        vertical-align: top;\n",
       "    }\n",
       "\n",
       "    .dataframe thead th {\n",
       "        text-align: right;\n",
       "    }\n",
       "</style>\n",
       "<table border=\"1\" class=\"dataframe\">\n",
       "  <thead>\n",
       "    <tr style=\"text-align: right;\">\n",
       "      <th></th>\n",
       "      <th>publisher_id</th>\n",
       "      <th>publisher</th>\n",
       "    </tr>\n",
       "  </thead>\n",
       "  <tbody>\n",
       "    <tr>\n",
       "      <th>0</th>\n",
       "      <td>1</td>\n",
       "      <td>Ace</td>\n",
       "    </tr>\n",
       "    <tr>\n",
       "      <th>1</th>\n",
       "      <td>2</td>\n",
       "      <td>Ace Book</td>\n",
       "    </tr>\n",
       "    <tr>\n",
       "      <th>2</th>\n",
       "      <td>3</td>\n",
       "      <td>Ace Books</td>\n",
       "    </tr>\n",
       "    <tr>\n",
       "      <th>3</th>\n",
       "      <td>4</td>\n",
       "      <td>Ace Hardcover</td>\n",
       "    </tr>\n",
       "    <tr>\n",
       "      <th>4</th>\n",
       "      <td>5</td>\n",
       "      <td>Addison Wesley Publishing Company</td>\n",
       "    </tr>\n",
       "  </tbody>\n",
       "</table>\n",
       "</div>"
      ],
      "text/plain": [
       "   publisher_id                          publisher\n",
       "0             1                                Ace\n",
       "1             2                           Ace Book\n",
       "2             3                          Ace Books\n",
       "3             4                      Ace Hardcover\n",
       "4             5  Addison Wesley Publishing Company"
      ]
     },
     "execution_count": 4,
     "metadata": {},
     "output_type": "execute_result"
    }
   ],
   "source": [
    "query = '''\n",
    "SELECT * \n",
    "FROM publishers \n",
    "LIMIT 5\n",
    "'''\n",
    "\n",
    "pd.io.sql.read_sql(sql=text(query), con = con)"
   ]
  },
  {
   "cell_type": "markdown",
   "metadata": {},
   "source": [
    "### Выведем первые 5 строк таблицы с пользовательскими оценками:"
   ]
  },
  {
   "cell_type": "code",
   "execution_count": 5,
   "metadata": {},
   "outputs": [
    {
     "data": {
      "text/html": [
       "<div>\n",
       "<style scoped>\n",
       "    .dataframe tbody tr th:only-of-type {\n",
       "        vertical-align: middle;\n",
       "    }\n",
       "\n",
       "    .dataframe tbody tr th {\n",
       "        vertical-align: top;\n",
       "    }\n",
       "\n",
       "    .dataframe thead th {\n",
       "        text-align: right;\n",
       "    }\n",
       "</style>\n",
       "<table border=\"1\" class=\"dataframe\">\n",
       "  <thead>\n",
       "    <tr style=\"text-align: right;\">\n",
       "      <th></th>\n",
       "      <th>rating_id</th>\n",
       "      <th>book_id</th>\n",
       "      <th>username</th>\n",
       "      <th>rating</th>\n",
       "    </tr>\n",
       "  </thead>\n",
       "  <tbody>\n",
       "    <tr>\n",
       "      <th>0</th>\n",
       "      <td>1</td>\n",
       "      <td>1</td>\n",
       "      <td>ryanfranco</td>\n",
       "      <td>4</td>\n",
       "    </tr>\n",
       "    <tr>\n",
       "      <th>1</th>\n",
       "      <td>2</td>\n",
       "      <td>1</td>\n",
       "      <td>grantpatricia</td>\n",
       "      <td>2</td>\n",
       "    </tr>\n",
       "    <tr>\n",
       "      <th>2</th>\n",
       "      <td>3</td>\n",
       "      <td>1</td>\n",
       "      <td>brandtandrea</td>\n",
       "      <td>5</td>\n",
       "    </tr>\n",
       "    <tr>\n",
       "      <th>3</th>\n",
       "      <td>4</td>\n",
       "      <td>2</td>\n",
       "      <td>lorichen</td>\n",
       "      <td>3</td>\n",
       "    </tr>\n",
       "    <tr>\n",
       "      <th>4</th>\n",
       "      <td>5</td>\n",
       "      <td>2</td>\n",
       "      <td>mariokeller</td>\n",
       "      <td>2</td>\n",
       "    </tr>\n",
       "  </tbody>\n",
       "</table>\n",
       "</div>"
      ],
      "text/plain": [
       "   rating_id  book_id       username  rating\n",
       "0          1        1     ryanfranco       4\n",
       "1          2        1  grantpatricia       2\n",
       "2          3        1   brandtandrea       5\n",
       "3          4        2       lorichen       3\n",
       "4          5        2    mariokeller       2"
      ]
     },
     "execution_count": 5,
     "metadata": {},
     "output_type": "execute_result"
    }
   ],
   "source": [
    "query = '''\n",
    "SELECT * \n",
    "FROM ratings \n",
    "LIMIT 5\n",
    "'''\n",
    "\n",
    "pd.io.sql.read_sql(sql=text(query), con = con)"
   ]
  },
  {
   "cell_type": "markdown",
   "metadata": {},
   "source": [
    "### Выведем первые 5 строк таблицы с пользовательскими обзорами:"
   ]
  },
  {
   "cell_type": "code",
   "execution_count": 6,
   "metadata": {},
   "outputs": [
    {
     "data": {
      "text/html": [
       "<div>\n",
       "<style scoped>\n",
       "    .dataframe tbody tr th:only-of-type {\n",
       "        vertical-align: middle;\n",
       "    }\n",
       "\n",
       "    .dataframe tbody tr th {\n",
       "        vertical-align: top;\n",
       "    }\n",
       "\n",
       "    .dataframe thead th {\n",
       "        text-align: right;\n",
       "    }\n",
       "</style>\n",
       "<table border=\"1\" class=\"dataframe\">\n",
       "  <thead>\n",
       "    <tr style=\"text-align: right;\">\n",
       "      <th></th>\n",
       "      <th>review_id</th>\n",
       "      <th>book_id</th>\n",
       "      <th>username</th>\n",
       "      <th>text</th>\n",
       "    </tr>\n",
       "  </thead>\n",
       "  <tbody>\n",
       "    <tr>\n",
       "      <th>0</th>\n",
       "      <td>1</td>\n",
       "      <td>1</td>\n",
       "      <td>brandtandrea</td>\n",
       "      <td>Mention society tell send professor analysis. ...</td>\n",
       "    </tr>\n",
       "    <tr>\n",
       "      <th>1</th>\n",
       "      <td>2</td>\n",
       "      <td>1</td>\n",
       "      <td>ryanfranco</td>\n",
       "      <td>Foot glass pretty audience hit themselves. Amo...</td>\n",
       "    </tr>\n",
       "    <tr>\n",
       "      <th>2</th>\n",
       "      <td>3</td>\n",
       "      <td>2</td>\n",
       "      <td>lorichen</td>\n",
       "      <td>Listen treat keep worry. Miss husband tax but ...</td>\n",
       "    </tr>\n",
       "    <tr>\n",
       "      <th>3</th>\n",
       "      <td>4</td>\n",
       "      <td>3</td>\n",
       "      <td>johnsonamanda</td>\n",
       "      <td>Finally month interesting blue could nature cu...</td>\n",
       "    </tr>\n",
       "    <tr>\n",
       "      <th>4</th>\n",
       "      <td>5</td>\n",
       "      <td>3</td>\n",
       "      <td>scotttamara</td>\n",
       "      <td>Nation purpose heavy give wait song will. List...</td>\n",
       "    </tr>\n",
       "  </tbody>\n",
       "</table>\n",
       "</div>"
      ],
      "text/plain": [
       "   review_id  book_id       username  \\\n",
       "0          1        1   brandtandrea   \n",
       "1          2        1     ryanfranco   \n",
       "2          3        2       lorichen   \n",
       "3          4        3  johnsonamanda   \n",
       "4          5        3    scotttamara   \n",
       "\n",
       "                                                text  \n",
       "0  Mention society tell send professor analysis. ...  \n",
       "1  Foot glass pretty audience hit themselves. Amo...  \n",
       "2  Listen treat keep worry. Miss husband tax but ...  \n",
       "3  Finally month interesting blue could nature cu...  \n",
       "4  Nation purpose heavy give wait song will. List...  "
      ]
     },
     "execution_count": 6,
     "metadata": {},
     "output_type": "execute_result"
    }
   ],
   "source": [
    "query = '''\n",
    "SELECT * \n",
    "FROM reviews \n",
    "LIMIT 5\n",
    "'''\n",
    "\n",
    "pd.io.sql.read_sql(sql=text(query), con = con)"
   ]
  },
  {
   "cell_type": "markdown",
   "metadata": {},
   "source": [
    "## Исследовательский анализ"
   ]
  },
  {
   "cell_type": "markdown",
   "metadata": {},
   "source": [
    "### Посчитать, сколько книг вышло после 1 января 2000 года"
   ]
  },
  {
   "cell_type": "code",
   "execution_count": 7,
   "metadata": {},
   "outputs": [
    {
     "data": {
      "text/html": [
       "<div>\n",
       "<style scoped>\n",
       "    .dataframe tbody tr th:only-of-type {\n",
       "        vertical-align: middle;\n",
       "    }\n",
       "\n",
       "    .dataframe tbody tr th {\n",
       "        vertical-align: top;\n",
       "    }\n",
       "\n",
       "    .dataframe thead th {\n",
       "        text-align: right;\n",
       "    }\n",
       "</style>\n",
       "<table border=\"1\" class=\"dataframe\">\n",
       "  <thead>\n",
       "    <tr style=\"text-align: right;\">\n",
       "      <th></th>\n",
       "      <th>number_of_books</th>\n",
       "    </tr>\n",
       "  </thead>\n",
       "  <tbody>\n",
       "    <tr>\n",
       "      <th>0</th>\n",
       "      <td>819</td>\n",
       "    </tr>\n",
       "  </tbody>\n",
       "</table>\n",
       "</div>"
      ],
      "text/plain": [
       "   number_of_books\n",
       "0              819"
      ]
     },
     "execution_count": 7,
     "metadata": {},
     "output_type": "execute_result"
    }
   ],
   "source": [
    "query = '''\n",
    "SELECT COUNT(*) number_of_books\n",
    "FROM books \n",
    "WHERE publication_date > '2000-01-01'\n",
    "'''\n",
    "\n",
    "pd.io.sql.read_sql(sql=text(query), con = con)"
   ]
  },
  {
   "cell_type": "markdown",
   "metadata": {},
   "source": [
    "**Вывод:**\n",
    "\n",
    "После 1-го января 2000 года было выпущено 819 книг."
   ]
  },
  {
   "cell_type": "markdown",
   "metadata": {},
   "source": [
    "### Посчитать количество обзоров и среднюю оценку для каждой книги;"
   ]
  },
  {
   "cell_type": "code",
   "execution_count": 8,
   "metadata": {},
   "outputs": [
    {
     "data": {
      "text/html": [
       "<div>\n",
       "<style scoped>\n",
       "    .dataframe tbody tr th:only-of-type {\n",
       "        vertical-align: middle;\n",
       "    }\n",
       "\n",
       "    .dataframe tbody tr th {\n",
       "        vertical-align: top;\n",
       "    }\n",
       "\n",
       "    .dataframe thead th {\n",
       "        text-align: right;\n",
       "    }\n",
       "</style>\n",
       "<table border=\"1\" class=\"dataframe\">\n",
       "  <thead>\n",
       "    <tr style=\"text-align: right;\">\n",
       "      <th></th>\n",
       "      <th>book_id</th>\n",
       "      <th>title</th>\n",
       "      <th>review_cnt</th>\n",
       "      <th>rating_avg</th>\n",
       "    </tr>\n",
       "  </thead>\n",
       "  <tbody>\n",
       "    <tr>\n",
       "      <th>0</th>\n",
       "      <td>1</td>\n",
       "      <td>'Salem's Lot</td>\n",
       "      <td>2</td>\n",
       "      <td>3.67</td>\n",
       "    </tr>\n",
       "    <tr>\n",
       "      <th>1</th>\n",
       "      <td>2</td>\n",
       "      <td>1 000 Places to See Before You Die</td>\n",
       "      <td>1</td>\n",
       "      <td>2.50</td>\n",
       "    </tr>\n",
       "    <tr>\n",
       "      <th>2</th>\n",
       "      <td>3</td>\n",
       "      <td>13 Little Blue Envelopes (Little Blue Envelope...</td>\n",
       "      <td>3</td>\n",
       "      <td>4.67</td>\n",
       "    </tr>\n",
       "    <tr>\n",
       "      <th>3</th>\n",
       "      <td>4</td>\n",
       "      <td>1491: New Revelations of the Americas Before C...</td>\n",
       "      <td>2</td>\n",
       "      <td>4.50</td>\n",
       "    </tr>\n",
       "    <tr>\n",
       "      <th>4</th>\n",
       "      <td>5</td>\n",
       "      <td>1776</td>\n",
       "      <td>4</td>\n",
       "      <td>4.00</td>\n",
       "    </tr>\n",
       "    <tr>\n",
       "      <th>...</th>\n",
       "      <td>...</td>\n",
       "      <td>...</td>\n",
       "      <td>...</td>\n",
       "      <td>...</td>\n",
       "    </tr>\n",
       "    <tr>\n",
       "      <th>995</th>\n",
       "      <td>996</td>\n",
       "      <td>Wyrd Sisters (Discworld  #6; Witches #2)</td>\n",
       "      <td>3</td>\n",
       "      <td>3.67</td>\n",
       "    </tr>\n",
       "    <tr>\n",
       "      <th>996</th>\n",
       "      <td>997</td>\n",
       "      <td>Xenocide (Ender's Saga  #3)</td>\n",
       "      <td>3</td>\n",
       "      <td>3.40</td>\n",
       "    </tr>\n",
       "    <tr>\n",
       "      <th>997</th>\n",
       "      <td>998</td>\n",
       "      <td>Year of Wonders</td>\n",
       "      <td>4</td>\n",
       "      <td>3.20</td>\n",
       "    </tr>\n",
       "    <tr>\n",
       "      <th>998</th>\n",
       "      <td>999</td>\n",
       "      <td>You Suck (A Love Story  #2)</td>\n",
       "      <td>2</td>\n",
       "      <td>4.50</td>\n",
       "    </tr>\n",
       "    <tr>\n",
       "      <th>999</th>\n",
       "      <td>1000</td>\n",
       "      <td>Zen and the Art of Motorcycle Maintenance: An ...</td>\n",
       "      <td>4</td>\n",
       "      <td>3.83</td>\n",
       "    </tr>\n",
       "  </tbody>\n",
       "</table>\n",
       "<p>1000 rows × 4 columns</p>\n",
       "</div>"
      ],
      "text/plain": [
       "     book_id                                              title  review_cnt  \\\n",
       "0          1                                       'Salem's Lot           2   \n",
       "1          2                 1 000 Places to See Before You Die           1   \n",
       "2          3  13 Little Blue Envelopes (Little Blue Envelope...           3   \n",
       "3          4  1491: New Revelations of the Americas Before C...           2   \n",
       "4          5                                               1776           4   \n",
       "..       ...                                                ...         ...   \n",
       "995      996           Wyrd Sisters (Discworld  #6; Witches #2)           3   \n",
       "996      997                        Xenocide (Ender's Saga  #3)           3   \n",
       "997      998                                    Year of Wonders           4   \n",
       "998      999                        You Suck (A Love Story  #2)           2   \n",
       "999     1000  Zen and the Art of Motorcycle Maintenance: An ...           4   \n",
       "\n",
       "     rating_avg  \n",
       "0          3.67  \n",
       "1          2.50  \n",
       "2          4.67  \n",
       "3          4.50  \n",
       "4          4.00  \n",
       "..          ...  \n",
       "995        3.67  \n",
       "996        3.40  \n",
       "997        3.20  \n",
       "998        4.50  \n",
       "999        3.83  \n",
       "\n",
       "[1000 rows x 4 columns]"
      ]
     },
     "execution_count": 8,
     "metadata": {},
     "output_type": "execute_result"
    }
   ],
   "source": [
    "query = '''\n",
    "WITH review_cnt AS (\n",
    "SELECT b.book_id,\n",
    "        b.title,\n",
    "        COUNT(rw.review_id) review_cnt\n",
    "FROM books AS b\n",
    "LEFT JOIN reviews AS rw ON b.book_id = rw.book_id\n",
    "\n",
    "GROUP BY b.book_id\n",
    "ORDER BY b.book_id),\n",
    "\n",
    "rating_avg AS (SELECT b.book_id,\n",
    "        ROUND(AVG(rt.rating), 2) rating_avg\n",
    "FROM books AS b\n",
    "LEFT JOIN ratings AS rt ON b.book_id = rt.book_id\n",
    "\n",
    "GROUP BY b.book_id\n",
    "ORDER BY b.book_id)\n",
    "\n",
    "SELECT ra.book_id,\n",
    "        rc.title,\n",
    "        rc.review_cnt,\n",
    "        ra.rating_avg\n",
    "FROM rating_avg AS ra\n",
    "FULL OUTER JOIN review_cnt AS rc ON ra.book_id = rc.book_id\n",
    "'''\n",
    "\n",
    "pd.io.sql.read_sql(sql=text(query), con = con)"
   ]
  },
  {
   "cell_type": "markdown",
   "metadata": {},
   "source": [
    "**Вывод:**\n",
    "\n",
    "Для каждой из 1000 книг выведен средний рейтинг и количество обзоров."
   ]
  },
  {
   "cell_type": "markdown",
   "metadata": {},
   "source": [
    "### Определить издательство, которое выпустило наибольшее число книг толще 50 страниц;"
   ]
  },
  {
   "cell_type": "code",
   "execution_count": 9,
   "metadata": {
    "scrolled": true
   },
   "outputs": [
    {
     "data": {
      "text/html": [
       "<div>\n",
       "<style scoped>\n",
       "    .dataframe tbody tr th:only-of-type {\n",
       "        vertical-align: middle;\n",
       "    }\n",
       "\n",
       "    .dataframe tbody tr th {\n",
       "        vertical-align: top;\n",
       "    }\n",
       "\n",
       "    .dataframe thead th {\n",
       "        text-align: right;\n",
       "    }\n",
       "</style>\n",
       "<table border=\"1\" class=\"dataframe\">\n",
       "  <thead>\n",
       "    <tr style=\"text-align: right;\">\n",
       "      <th></th>\n",
       "      <th>publisher</th>\n",
       "      <th>books_cnt</th>\n",
       "    </tr>\n",
       "  </thead>\n",
       "  <tbody>\n",
       "    <tr>\n",
       "      <th>0</th>\n",
       "      <td>Penguin Books</td>\n",
       "      <td>42</td>\n",
       "    </tr>\n",
       "  </tbody>\n",
       "</table>\n",
       "</div>"
      ],
      "text/plain": [
       "       publisher  books_cnt\n",
       "0  Penguin Books         42"
      ]
     },
     "execution_count": 9,
     "metadata": {},
     "output_type": "execute_result"
    }
   ],
   "source": [
    "query = '''\n",
    "WITH publisher_cnt AS (\n",
    "SELECT publisher_id,\n",
    "        COUNT(*) books_cnt\n",
    "FROM books\n",
    "WHERE num_pages > 50\n",
    "GROUP BY publisher_id)\n",
    "\n",
    "SELECT p.publisher,\n",
    "        pc.books_cnt\n",
    "FROM publisher_cnt AS pc\n",
    "LEFT JOIN publishers AS p ON pc.publisher_id = p.publisher_id\n",
    "ORDER BY books_cnt DESC\n",
    "LIMIT 1\n",
    "'''\n",
    "\n",
    "pd.io.sql.read_sql(sql=text(query), con = con)"
   ]
  },
  {
   "cell_type": "markdown",
   "metadata": {},
   "source": [
    "**Вывод:**\n",
    "\n",
    "Наибольшее количество книг толщиной более 50 страниц выпустило издание Penguin Books, а именно 42 книги."
   ]
  },
  {
   "cell_type": "markdown",
   "metadata": {},
   "source": [
    "### Определить автора с самой высокой средней оценкой книг (учитывать только книги с 50 и более оценками);"
   ]
  },
  {
   "cell_type": "code",
   "execution_count": 10,
   "metadata": {
    "scrolled": true
   },
   "outputs": [
    {
     "data": {
      "text/html": [
       "<div>\n",
       "<style scoped>\n",
       "    .dataframe tbody tr th:only-of-type {\n",
       "        vertical-align: middle;\n",
       "    }\n",
       "\n",
       "    .dataframe tbody tr th {\n",
       "        vertical-align: top;\n",
       "    }\n",
       "\n",
       "    .dataframe thead th {\n",
       "        text-align: right;\n",
       "    }\n",
       "</style>\n",
       "<table border=\"1\" class=\"dataframe\">\n",
       "  <thead>\n",
       "    <tr style=\"text-align: right;\">\n",
       "      <th></th>\n",
       "      <th>author</th>\n",
       "      <th>avg_rating</th>\n",
       "    </tr>\n",
       "  </thead>\n",
       "  <tbody>\n",
       "    <tr>\n",
       "      <th>0</th>\n",
       "      <td>J.K. Rowling/Mary GrandPré</td>\n",
       "      <td>4.29</td>\n",
       "    </tr>\n",
       "  </tbody>\n",
       "</table>\n",
       "</div>"
      ],
      "text/plain": [
       "                       author  avg_rating\n",
       "0  J.K. Rowling/Mary GrandPré        4.29"
      ]
     },
     "execution_count": 10,
     "metadata": {},
     "output_type": "execute_result"
    }
   ],
   "source": [
    "query = '''\n",
    "WITH rating_query AS (\n",
    "SELECT book_id,\n",
    "        COUNT(*) rating_cnt\n",
    "FROM ratings\n",
    "GROUP BY book_id\n",
    "HAVING COUNT(*) >= 50\n",
    "ORDER BY rating_cnt DESC)\n",
    "\n",
    "SELECT a.author,\n",
    "        ROUND(AVG(r.rating), 2) avg_rating\n",
    "FROM books AS b\n",
    "RIGHT JOIN rating_query AS rq ON b.book_id = rq.book_id\n",
    "LEFT JOIN authors AS a ON a.author_id = b.author_id\n",
    "LEFT JOIN ratings AS r ON b.book_id = r.book_id\n",
    "GROUP BY a.author\n",
    "ORDER BY avg_rating DESC\n",
    "LIMIT 1\n",
    "\n",
    "'''\n",
    "\n",
    "pd.io.sql.read_sql(sql=text(query), con = con)"
   ]
  },
  {
   "cell_type": "markdown",
   "metadata": {},
   "source": [
    "**Вывод:**\n",
    "\n",
    "J.K. Rowling/Mary GrandPré имеет самую высокую оценку среди авторов книг с 50 и более оценками."
   ]
  },
  {
   "cell_type": "markdown",
   "metadata": {},
   "source": [
    "### Посчитать среднее количество обзоров от пользователей, которые поставили больше 48 оценок."
   ]
  },
  {
   "cell_type": "code",
   "execution_count": 11,
   "metadata": {
    "scrolled": true
   },
   "outputs": [
    {
     "data": {
      "text/html": [
       "<div>\n",
       "<style scoped>\n",
       "    .dataframe tbody tr th:only-of-type {\n",
       "        vertical-align: middle;\n",
       "    }\n",
       "\n",
       "    .dataframe tbody tr th {\n",
       "        vertical-align: top;\n",
       "    }\n",
       "\n",
       "    .dataframe thead th {\n",
       "        text-align: right;\n",
       "    }\n",
       "</style>\n",
       "<table border=\"1\" class=\"dataframe\">\n",
       "  <thead>\n",
       "    <tr style=\"text-align: right;\">\n",
       "      <th></th>\n",
       "      <th>avg_reviews</th>\n",
       "    </tr>\n",
       "  </thead>\n",
       "  <tbody>\n",
       "    <tr>\n",
       "      <th>0</th>\n",
       "      <td>24.0</td>\n",
       "    </tr>\n",
       "  </tbody>\n",
       "</table>\n",
       "</div>"
      ],
      "text/plain": [
       "   avg_reviews\n",
       "0         24.0"
      ]
     },
     "execution_count": 11,
     "metadata": {},
     "output_type": "execute_result"
    }
   ],
   "source": [
    "query = '''\n",
    "WITH user_ratings AS (\n",
    "SELECT username\n",
    "FROM ratings\n",
    "GROUP BY username\n",
    "HAVING COUNT(rating_id) > 48\n",
    "),\n",
    "\n",
    "user_reviews AS (\n",
    "SELECT username, \n",
    "        COUNT(review_id) AS review_cnt\n",
    "FROM reviews\n",
    "WHERE username IN (SELECT username \n",
    "                    FROM user_ratings)\n",
    "GROUP BY username\n",
    ")\n",
    "\n",
    "SELECT AVG(review_cnt) AS avg_reviews\n",
    "FROM user_reviews\n",
    "'''\n",
    "\n",
    "pd.io.sql.read_sql(sql=text(query), con = con)"
   ]
  },
  {
   "cell_type": "markdown",
   "metadata": {},
   "source": [
    "**Вывод:**\n",
    "\n",
    "Среднее количество обзоров от пользователей, которые поставили больше 48 оценок, составляет 24 обзора"
   ]
  }
 ],
 "metadata": {
  "ExecuteTimeLog": [
   {
    "duration": 593,
    "start_time": "2025-02-25T12:17:29.157Z"
   },
   {
    "duration": 23731,
    "start_time": "2025-02-25T12:18:19.904Z"
   },
   {
    "duration": 5,
    "start_time": "2025-02-25T12:20:30.517Z"
   },
   {
    "duration": 42,
    "start_time": "2025-02-25T12:20:32.116Z"
   },
   {
    "duration": 49,
    "start_time": "2025-02-25T12:21:34.811Z"
   },
   {
    "duration": 33988,
    "start_time": "2025-02-25T12:22:01.783Z"
   },
   {
    "duration": 24,
    "start_time": "2025-02-25T12:22:35.774Z"
   },
   {
    "duration": 17,
    "start_time": "2025-02-25T12:25:04.370Z"
   },
   {
    "duration": 14,
    "start_time": "2025-02-25T12:25:14.513Z"
   },
   {
    "duration": 13,
    "start_time": "2025-02-25T12:25:23.878Z"
   },
   {
    "duration": 12,
    "start_time": "2025-02-25T12:25:35.459Z"
   },
   {
    "duration": 11,
    "start_time": "2025-02-25T12:25:41.953Z"
   },
   {
    "duration": 11,
    "start_time": "2025-02-25T12:31:03.018Z"
   },
   {
    "duration": 11,
    "start_time": "2025-02-25T12:32:21.021Z"
   },
   {
    "duration": 9,
    "start_time": "2025-02-25T12:32:25.264Z"
   },
   {
    "duration": 10,
    "start_time": "2025-02-25T12:32:27.241Z"
   },
   {
    "duration": 12,
    "start_time": "2025-02-25T12:32:47.977Z"
   },
   {
    "duration": 27,
    "start_time": "2025-02-25T12:35:10.574Z"
   },
   {
    "duration": 39,
    "start_time": "2025-02-25T12:36:44.759Z"
   },
   {
    "duration": 92,
    "start_time": "2025-02-25T12:40:43.168Z"
   },
   {
    "duration": 23,
    "start_time": "2025-02-25T12:40:48.739Z"
   },
   {
    "duration": 21,
    "start_time": "2025-02-25T12:43:00.428Z"
   },
   {
    "duration": 15,
    "start_time": "2025-02-25T12:43:21.821Z"
   },
   {
    "duration": 35,
    "start_time": "2025-02-25T12:43:27.382Z"
   },
   {
    "duration": 19,
    "start_time": "2025-02-25T12:43:37.289Z"
   },
   {
    "duration": 26,
    "start_time": "2025-02-25T12:45:35.526Z"
   },
   {
    "duration": 32,
    "start_time": "2025-02-25T12:46:40.381Z"
   },
   {
    "duration": 10,
    "start_time": "2025-02-25T12:46:55.562Z"
   },
   {
    "duration": 15,
    "start_time": "2025-02-25T12:47:39.113Z"
   },
   {
    "duration": 14,
    "start_time": "2025-02-25T12:49:01.589Z"
   },
   {
    "duration": 61,
    "start_time": "2025-02-25T12:51:03.366Z"
   },
   {
    "duration": 28,
    "start_time": "2025-02-25T12:52:37.203Z"
   },
   {
    "duration": 21,
    "start_time": "2025-02-25T12:52:48.870Z"
   },
   {
    "duration": 20,
    "start_time": "2025-02-25T12:53:32.486Z"
   },
   {
    "duration": 24,
    "start_time": "2025-02-25T12:54:28.665Z"
   },
   {
    "duration": 18,
    "start_time": "2025-02-25T12:55:28.500Z"
   },
   {
    "duration": 23,
    "start_time": "2025-02-25T12:56:46.026Z"
   },
   {
    "duration": 22,
    "start_time": "2025-02-25T12:57:17.331Z"
   },
   {
    "duration": 21,
    "start_time": "2025-02-25T12:57:42.705Z"
   },
   {
    "duration": 27,
    "start_time": "2025-02-25T13:00:36.588Z"
   },
   {
    "duration": 31,
    "start_time": "2025-02-25T13:00:54.268Z"
   },
   {
    "duration": 14,
    "start_time": "2025-02-25T13:03:27.343Z"
   },
   {
    "duration": 18,
    "start_time": "2025-02-25T13:03:33.279Z"
   },
   {
    "duration": 23,
    "start_time": "2025-02-25T13:04:46.303Z"
   },
   {
    "duration": 18,
    "start_time": "2025-02-25T13:09:17.637Z"
   },
   {
    "duration": 20,
    "start_time": "2025-02-25T13:10:57.580Z"
   },
   {
    "duration": 19,
    "start_time": "2025-02-25T13:11:15.396Z"
   },
   {
    "duration": 20,
    "start_time": "2025-02-25T13:11:57.248Z"
   },
   {
    "duration": 19,
    "start_time": "2025-02-25T13:12:25.667Z"
   },
   {
    "duration": 19,
    "start_time": "2025-02-25T13:18:59.645Z"
   },
   {
    "duration": 63,
    "start_time": "2025-02-25T13:19:40.579Z"
   },
   {
    "duration": 22,
    "start_time": "2025-02-25T13:20:12.101Z"
   },
   {
    "duration": 19,
    "start_time": "2025-02-25T13:20:43.953Z"
   },
   {
    "duration": 12,
    "start_time": "2025-02-25T13:22:01.555Z"
   },
   {
    "duration": 11,
    "start_time": "2025-02-25T13:22:11.117Z"
   },
   {
    "duration": 13,
    "start_time": "2025-02-25T13:22:22.676Z"
   },
   {
    "duration": 12,
    "start_time": "2025-02-25T13:22:33.221Z"
   },
   {
    "duration": 9,
    "start_time": "2025-02-25T13:22:48.768Z"
   },
   {
    "duration": 20,
    "start_time": "2025-02-25T13:23:52.317Z"
   },
   {
    "duration": 13,
    "start_time": "2025-02-25T13:23:57.400Z"
   },
   {
    "duration": 15,
    "start_time": "2025-02-25T13:24:44.233Z"
   },
   {
    "duration": 13,
    "start_time": "2025-02-25T13:25:29.176Z"
   },
   {
    "duration": 13,
    "start_time": "2025-02-25T13:25:45.436Z"
   },
   {
    "duration": 12,
    "start_time": "2025-02-25T13:25:57.984Z"
   },
   {
    "duration": 19,
    "start_time": "2025-02-25T13:28:21.090Z"
   },
   {
    "duration": 20,
    "start_time": "2025-02-25T13:30:23.246Z"
   },
   {
    "duration": 19,
    "start_time": "2025-02-25T13:30:27.490Z"
   },
   {
    "duration": 27,
    "start_time": "2025-02-25T13:30:31.917Z"
   },
   {
    "duration": 14,
    "start_time": "2025-02-25T13:31:29.557Z"
   },
   {
    "duration": 16,
    "start_time": "2025-02-25T13:31:33.595Z"
   },
   {
    "duration": 19,
    "start_time": "2025-02-25T13:33:04.733Z"
   },
   {
    "duration": 12,
    "start_time": "2025-02-25T13:33:14.508Z"
   },
   {
    "duration": 21,
    "start_time": "2025-02-25T13:35:14.362Z"
   },
   {
    "duration": 12,
    "start_time": "2025-02-25T13:35:19.064Z"
   },
   {
    "duration": 19,
    "start_time": "2025-02-25T13:36:58.898Z"
   },
   {
    "duration": 17,
    "start_time": "2025-02-25T13:37:23.388Z"
   },
   {
    "duration": 15,
    "start_time": "2025-02-25T13:38:31.349Z"
   },
   {
    "duration": 12,
    "start_time": "2025-02-25T13:39:06.338Z"
   },
   {
    "duration": 14,
    "start_time": "2025-02-25T13:39:19.499Z"
   },
   {
    "duration": 13,
    "start_time": "2025-02-25T13:39:47.665Z"
   },
   {
    "duration": 19,
    "start_time": "2025-02-25T13:41:00.138Z"
   },
   {
    "duration": 20,
    "start_time": "2025-02-25T13:41:48.949Z"
   },
   {
    "duration": 19,
    "start_time": "2025-02-25T13:41:51.854Z"
   },
   {
    "duration": 20,
    "start_time": "2025-02-25T13:43:03.202Z"
   },
   {
    "duration": 21,
    "start_time": "2025-02-25T13:43:25.092Z"
   },
   {
    "duration": 19,
    "start_time": "2025-02-25T13:43:33.606Z"
   },
   {
    "duration": 20,
    "start_time": "2025-02-25T13:43:57.554Z"
   },
   {
    "duration": 14,
    "start_time": "2025-02-25T13:44:02.697Z"
   },
   {
    "duration": 15,
    "start_time": "2025-02-25T13:46:45.941Z"
   },
   {
    "duration": 16,
    "start_time": "2025-02-25T13:47:06.273Z"
   },
   {
    "duration": 13,
    "start_time": "2025-02-25T13:47:17.226Z"
   },
   {
    "duration": 15,
    "start_time": "2025-02-25T13:47:31.648Z"
   },
   {
    "duration": 20,
    "start_time": "2025-02-25T13:50:28.610Z"
   },
   {
    "duration": 28,
    "start_time": "2025-02-25T13:51:16.106Z"
   },
   {
    "duration": 14,
    "start_time": "2025-02-25T13:51:47.813Z"
   },
   {
    "duration": 14,
    "start_time": "2025-02-25T13:52:06.570Z"
   },
   {
    "duration": 14,
    "start_time": "2025-02-25T13:52:11.770Z"
   },
   {
    "duration": 12,
    "start_time": "2025-02-25T13:52:42.310Z"
   },
   {
    "duration": 13,
    "start_time": "2025-02-25T13:53:26.857Z"
   },
   {
    "duration": 19,
    "start_time": "2025-02-25T13:54:59.407Z"
   },
   {
    "duration": 17,
    "start_time": "2025-02-25T13:55:23.811Z"
   },
   {
    "duration": 23,
    "start_time": "2025-02-25T13:56:19.629Z"
   },
   {
    "duration": 13,
    "start_time": "2025-02-25T13:56:26.956Z"
   },
   {
    "duration": 12,
    "start_time": "2025-02-25T13:56:48.306Z"
   },
   {
    "duration": 18,
    "start_time": "2025-02-25T13:56:55.801Z"
   },
   {
    "duration": 13,
    "start_time": "2025-02-25T13:58:12.590Z"
   },
   {
    "duration": 12,
    "start_time": "2025-02-25T13:58:51.519Z"
   },
   {
    "duration": 12,
    "start_time": "2025-02-25T13:59:50.686Z"
   },
   {
    "duration": 15,
    "start_time": "2025-02-25T14:00:17.952Z"
   },
   {
    "duration": 12,
    "start_time": "2025-02-25T14:06:41.443Z"
   },
   {
    "duration": 15033,
    "start_time": "2025-02-25T14:08:35.473Z"
   },
   {
    "duration": 19,
    "start_time": "2025-02-25T14:08:50.508Z"
   },
   {
    "duration": 9,
    "start_time": "2025-02-25T14:08:50.528Z"
   },
   {
    "duration": 8,
    "start_time": "2025-02-25T14:08:50.539Z"
   },
   {
    "duration": 9,
    "start_time": "2025-02-25T14:08:50.548Z"
   },
   {
    "duration": 19,
    "start_time": "2025-02-25T14:08:50.559Z"
   },
   {
    "duration": 10,
    "start_time": "2025-02-25T14:08:50.579Z"
   },
   {
    "duration": 27,
    "start_time": "2025-02-25T14:08:50.590Z"
   },
   {
    "duration": 9,
    "start_time": "2025-02-25T14:08:50.619Z"
   },
   {
    "duration": 12,
    "start_time": "2025-02-25T14:08:50.631Z"
   },
   {
    "duration": 12,
    "start_time": "2025-02-25T14:08:50.645Z"
   }
  ],
  "kernelspec": {
   "display_name": "Python 3 (ipykernel)",
   "language": "python",
   "name": "python3"
  },
  "language_info": {
   "codemirror_mode": {
    "name": "ipython",
    "version": 3
   },
   "file_extension": ".py",
   "mimetype": "text/x-python",
   "name": "python",
   "nbconvert_exporter": "python",
   "pygments_lexer": "ipython3",
   "version": "3.9.5"
  },
  "toc": {
   "base_numbering": 1,
   "nav_menu": {},
   "number_sections": true,
   "sideBar": true,
   "skip_h1_title": true,
   "title_cell": "Table of Contents",
   "title_sidebar": "Contents",
   "toc_cell": false,
   "toc_position": {
    "height": "calc(100% - 180px)",
    "left": "10px",
    "top": "150px",
    "width": "371.188px"
   },
   "toc_section_display": true,
   "toc_window_display": true
  }
 },
 "nbformat": 4,
 "nbformat_minor": 2
}
